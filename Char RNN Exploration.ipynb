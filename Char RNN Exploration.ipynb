{
 "cells": [
  {
   "cell_type": "markdown",
   "metadata": {},
   "source": [
    "# Char RNN Exploration\n",
    "***"
   ]
  },
  {
   "cell_type": "markdown",
   "metadata": {},
   "source": [
    "## 1. Import Text Data"
   ]
  },
  {
   "cell_type": "code",
   "execution_count": 40,
   "metadata": {
    "collapsed": true
   },
   "outputs": [],
   "source": [
    "total = \"\"\n",
    "data = \"\""
   ]
  },
  {
   "cell_type": "code",
   "execution_count": 41,
   "metadata": {
    "collapsed": true
   },
   "outputs": [],
   "source": [
    "import os\n",
    "directory = \"texts/individual/\"\n",
    "files = []\n",
    "for filename in os.listdir(directory):\n",
    "    if filename.endswith(\".txt\"):\n",
    "        with open (directory+filename, \"r\") as myfile:\n",
    "            data = myfile.read().replace('\\n', ' ')\n",
    "        files.append(filename)\n",
    "    total = total + data"
   ]
  },
  {
   "cell_type": "code",
   "execution_count": 42,
   "metadata": {
    "collapsed": true
   },
   "outputs": [],
   "source": [
    "# Replace commas\n",
    "total = total.replace(\"\\xe2\\x80\\x99\", \"\\'\")\n",
    "# Replace ...\n",
    "total = total.replace(\"\\xe2\\x80\\xa6\", \"...\")\n",
    "# Replace backslashes\n",
    "total = total.replace(\"\\\\\", \"\")\n",
    "# Convert to lowercase\n",
    "total = total.lower()"
   ]
  },
  {
   "cell_type": "code",
   "execution_count": 43,
   "metadata": {},
   "outputs": [
    {
     "data": {
      "text/plain": [
       "['the-cat-in-a-hat.txt',\n",
       " 'horton-hears-a-who.txt',\n",
       " 'ten-apples-up-on-top.txt',\n",
       " 'happy-birthday-to-you.txt',\n",
       " 'if-i-ran-the-zoo.txt',\n",
       " 'the-butter-battle-book.txt',\n",
       " 'the-foot-book.txt',\n",
       " 'oh-the-places-youll-go.txt',\n",
       " 'the-sneetches.txt',\n",
       " 'the-lorax.txt',\n",
       " 'marvin-k-mooney-will-you-please-go-now.txt',\n",
       " 'wocket-in-my-pocket.txt',\n",
       " 'hop-on-pop.txt',\n",
       " 'how-the-grinch-stole-christmas.txt',\n",
       " 'one-fish-two-fish-red-fish-blue-fish.txt',\n",
       " 'mr-brown-can-moo-can-you.txt',\n",
       " 'fox-in-socks.txt',\n",
       " 'green-eggs-and-ham.txt']"
      ]
     },
     "execution_count": 43,
     "metadata": {},
     "output_type": "execute_result"
    }
   ],
   "source": [
    "files"
   ]
  },
  {
   "cell_type": "code",
   "execution_count": 44,
   "metadata": {},
   "outputs": [
    {
     "data": {
      "text/plain": [
       "'the sun did not shine. it was too wet to play. so we sat in the house all that cold, cold, wet day.  i sat there with sally. we sat there, we two. and i said, \"how i wish we had something to do!\"  too wet to go out and too cold to play ball. so we sat in the house. we did nothing at all.  so all we could do was to  sit! sit! sit! sit!  and we did not like it. not one little bit.  bump!  and then something went bump! how that bump made us jump!  we looked! then we saw him step in on the mat! we looked! and we saw him! the cat in the hat! and he said to us, \"why do you sit there like that?\" \"i know it is wet and the sun is not sunny. but we can have lots of good fun that is funny!\"  \"i know some good games we could play,\" said the cat. \"i know some new tricks,\" said the cat in the hat. \"a lot of good tricks. i will show them to you. your mother will not mind at all if i do.\"  then sally and i did not know what to say. our mother was out of the house for the day.  but our fish said, \"no! no! make that cat go away! tell that cat in the hat you do not want to play. he should not be here. he should not be about. he should not be here when your mother is out!\"  \"now! now! have no fear. have no fear!\" said the cat. \"my tricks are not bad,\" said the cat in the hat. \"why, we can have lots of good fun, if you wish, with a game that i call up-up-up with a fish!\"  \"put me down!\" said the fish. \"this is no fun at all! put me down!\" said the fish. \"i do not wish to fall!\"  \"have no fear!\" said the cat. \"i will not let you fall. i will hold you up high as i stand on a ball. with a book on one hand! and a cup on my hat! but that is not all i can do!\" said the cat...  \"look at me! look at me now!\" said the cat. \"with a cup and a cake on the top of my hat! i can hold up two books! i can hold up the fish! and a litte toy ship! and some milk on a dish! and look! i can hop up and down on the ball! but that is not all! oh, no. that is not all...  \"look at me! look at me! look at me now! it is fun to have fun but you have to know how. i can hold up the cup and the milk and the cake! i can hold up these books! and the fish on a rake! i can hold the toy ship and a little toy man! and look! with my tail i can hold a red fan! i can fan with the fan as i hop on the ball! but that is not all. oh, no. that is not all....\"  that is what the cat said... then he fell on his head! he came down with a bump from up there on the ball. and sally and i, we saw all the things fall!  and our fish came down, too. he fell into a pot! he said, \"do i like this?\" oh, no! i do not. this is not a good game,\" said our fish as he lit. \"no, i do not like it, not one little bit!\"  \"now look what you did!\" said the fish to the cat. \"now look at this house! look at this! look at that! you sank our toy ship, sank it deep in the cake. you shook up our house and you bent our new rake. you should not be here when our mother is not. you get out of this house!\" said the fish in the pot.  \"but i like to be here. oh, i like it a lot!\" said the cat in the hat to the fish in the pot. \"i will not go away. i do not wish to go! and so,\" said the cat in the hat,  \"so so so...  i will show you another good game that i know!\" and then he ran out. and, then, fast as a fox, the cat in the hat came back in with a box. a big red wood box. it was shut with a hook. \"now look at this trick,\" said the cat. \"take a look!\"  then he got up on top with a tip of his hat. \"i call this game fun-in-a-box,\" said the cat. \"in this box are two things i will show to you now. you will like these two things,\" said the cat with a bow.  \"i will pick up the hook. you will see something new. two things. and i call them thing one and thing two. these things will not bite you. they want to have fun.\" then, out of the box came thing two and thing one! and they ran to us fast. they said, \"how do you do? would you like to shake hands with thing one and thing two?\"  and sally and i did not know what to do. so we had to shake hands with thing one and thing two. we shook their two hands. but our fish said, \"no! no! those things should not be in this house! make them go! \"they should not be here when your mother is not! put them out! put them out!\" said the fish in the pot.  \"have no fear, little fish,\" said the cat in the hat. \"these things are good things.\" and he gave them a pat. \"they are tame. oh, so tame! they have come here to play. they will give you some fun on this wet, wet, wet day.\"  \"now, here is a game that they like,\" said the cat. \"they like to fly kites,\" said the cat in the hat  \"no! not in the house!\" said the fish in the pot. \"they should not fly kites in a house! they should not. oh, the things they will bump! oh, the things they will hit! oh, i do not like it! not one little bit!\" then sally and i saw them run down the hall. we saw those two things bump their kites on the wall! bump! thump! thump! bump! down the wall in the hall.  thing two and thing one! they ran up! they ran down! on the string of one kite we saw mother\\'s new gown! her gown with the dots that are pink, white and red. then we saw one kite bump on the head of her bed!  then those things ran about with big bumps, jumps and kicks and with hops and big thumps and all kinds of bad tricks. and i said, \"i do not like the way that they play if mother could see this, oh, what would she say!\"  then our fish said, \"look! look!\" and our fish shook with fear. \"your mother is on her way home! do you hear? oh, what will she do to us? what will she say? oh, she will not like it to find us this way!\"  \"so, do something! fast!\" said the fish. \"do you hear! i saw her. your mother! your mother is near! so, as fast as you can, think of something to do! you will have to get rid of thing one and thing two!\"  so, as fast as i could, i went after my net. and i said, \"with my net i can get them i bet. i bet, with my net, i can get those things yet!\"  then i let down my net. it came down with a plop! and i had them! at last! thoe two things had to stop. then i said to the cat, \"now you do as i say. you pack up those things and you take them away!\"  \"oh dear!\" said the cat, \"you did not like our game... oh dear.  what a shame! what a shame! what a shame!\"  then he shut up the things in the box with the hook. and the cat went away with a sad kind of look.  \"that is good,\" said the fish. \"he has gone away. yes. but your mother will come. she will find this big mess! and this mess is so big and so deep and so tall, we ca not pick it up. there is no way at all!\"  and then! who was back in the house? why, the cat! \"have no fear of this mess,\" said the cat in the hat. \"i always pick up all my playthings and so... i will show you another good trick that i know!\"  then we saw him pick up all the things that were down. he picked up the cake, and the rake, and the gown, and the milk, and the strings, and the books, and the dish, and the fan, and the cup, and the ship, and the fish. and he put them away. then he said, \"that is that.\" and then he was gone with a tip of his hat.  then our mother came in and she said to us two, \"did you have any fun? tell me. what did you do?\"  and sally and i did not know what to say. should we tell her the things that went on there that day?  should we tell her about it? now, what should we do? well... what would you do if your mother asked you?on the 15th of may, in the jungle of nool, in the heat of the day, in the cool of the pool, he was splashing... enjoying the jungle\\'s great joys... when horton the elephant heard a small noise. so horton stopped splashing. he looked toward the sound. \\xe2\\x80\\x9cthat\\'s funny,\\xe2\\x80\\x9d thought horton. \\xe2\\x80\\x9cthere\\'s no one around.\\xe2\\x80\\x9d then he heard it again! just a very faint yelp as if some tiny person were calling for help. \\xe2\\x80\\x9ci\\'ll help you,\\xe2\\x80\\x9d said horton. \\xe2\\x80\\x9cbut who are you? where?\\xe2\\x80\\x9d he looked and he looked. he could see nothing there but a small speck of dust blowing past through the air. \\xe2\\x80\\x9ci say!\\xe2\\x80\\x9d murmured horton. \\xe2\\x80\\x9ci\\'ve never heard tell of a small speck of dust that is able to yell. so you know what i think?... why, i think that there must be someone on top of that small speck of dust! some sort of a creature of very small size, too small to be seen by an elephant\\'s eyes... \\xe2\\x80\\x9c... some poor little person who\\'s shaking with fear that he\\'ll blow in the pool! he has no way to steer! i\\'ll just have to save him. because, after all, a person\\'s a person, no matter how small.\\xe2\\x80\\x9d so, gently, and using the greatest of care, the elephant stretched his great trunk through the air, and he lifted the dust speck and carried it over and placed it down, safe, on a very soft clover. \\xe2\\x80\\x9chumpf!\\xe2\\x80\\x9d humpfted a voice. \\xe2\\x80\\x98twas a sour kangaroo. and the you kangaroo in her pouch said \\xe2\\x80\\x9chumpf\\xe2\\x80\\x9d too. \\xe2\\x80\\x9c why, that speck is as small as the head of a pin. a person on that?... why, there never has been!\\xe2\\x80\\x9d \\xe2\\x80\\x9cbelieve me,\\xe2\\x80\\x9d said horton. \\xe2\\x80\\x9ci tell you sincerely, my ears are quite keen and i heard him quite clearly. i know there\\'s a person down there. and, what\\'s more, quite likely there\\'s two. even three. even four. quite likely... \\xe2\\x80\\x9c...a family, for all that we know! a family with children just starting to grow. so, please,\\xe2\\x80\\x9d horton said, \\xe2\\x80\\x9cas a favor to me, try not to disturb them. just please let them be.\\xe2\\x80\\x9d \\xe2\\x80\\x9ci think you\\'re a fool!\\xe2\\x80\\x9d laughed the sour kangaroo and the young kangaroo in her pouch said, \\xe2\\x80\\x9cme, too! you\\'re the biggest blame fool in the jungle of nool!\\xe2\\x80\\x9d and the kangaroos plunged in the cool of the pool. \\xe2\\x80\\x9cwhat terrible splashing!\\xe2\\x80\\x9d the elephant frowned. \\xe2\\x80\\x9ci can\\'t let my very small person get drowned!\\xe2\\x80\\x9d i\\'ve got to protect them. i\\'m bigger than they.\\xe2\\x80\\x9d so he plucked up the clover and hustled away. through the high jungle tree tops, the news quickly spread: \\xe2\\x80\\x9che talks to a dust speck! he\\'s out of his head! just look at him walk with that speck on that flower!\\xe2\\x80\\x9d and horton walked, worrying, almost an hour. \\xe2\\x80\\x9cshould i put this speck down?...\\xe2\\x80\\x9d horton thought with alarm. \\xe2\\x80\\x9cif  i do, these small persons may come to great harm. i can\\'t put it down. and i won\\'t! after all a person\\'s a person. no matter how small.\\xe2\\x80\\x9d then horton stopped walking. the speck-voice was talking! the voice was so faint he could just barley hear it. \\xe2\\x80\\x9cspeak up, please\\xe2\\x80\\x9d said horton. he put his ear near it. \\xe2\\x80\\x9cmy friend,\\xe2\\x80\\x9d came the voice, \\xe2\\x80\\x9cyou\\'re a very fine friend. you\\'ve helped all us folks on this dust speck no end. you\\'ve saved all our houses, our ceilings and floors. you\\'ve saved all our churches and grocery stores.\\xe2\\x80\\x9d \\xe2\\x80\\x9cyou mean...\\xe2\\x80\\x9d horton gasped, \\xe2\\x80\\x9cyou have buildings there, too?\\xe2\\x80\\x9d \\xe2\\x80\\x9coh, yes,\\xe2\\x80\\x9d piped the voice. \\xe2\\x80\\x9cwe most certainly do... \\xe2\\x80\\x9ci know,\\xe2\\x80\\x9d called the voice, \\xe2\\x80\\x9ci\\'m too small to be seen but i\\'m mayor of a town that is friendly and clean. our buildings, to you, would seem terribly small but to us, who aren\\'t big, they are wonderfully tall. my town is called who-ville, for i am a who and we whos are all thankful and grateful to you.\\xe2\\x80\\x9d and horton called back to the mayor of the town, \\xe2\\x80\\x9cyou\\'re safe now. don\\'t worry. i won\\'t let you down.\\xe2\\x80\\x9d but, just as he spoke to the mayor of the speck, three big jungle monkeys climbed up horton\\'s neck! the wickersham brothers came shouting, \\xe2\\x80\\x9cwhat rot! this elephant\\'s talking to whos who are not! there aren\\'t any whos! and they don\\'t have a mayor! and we\\'re going to stop all the nonsense! so there!\\xe2\\x80\\x9d they snatched horton\\'s clover! they carried it off to a black-bottomed eagle named vlad vlad-i-koff, a mighty strong eagle, of very swift wing, and they said, \\xe2\\x80\\x9cwill you kindly get rid of this thing?\\xe2\\x80\\x9d and, before the poor elephant even could speak, that eagle flew off with the flower in his beak. all that latte afternoon and far into the night that black-bottomed bird flapped his wings in fast flight, while horton chased after, with groans, over stones that tattered his toenails and battered his bones, and begged, \\xe2\\x80\\x9cplease don\\'t harm all my little folks, who have as much right to live as us bigger folks do!\\xe2\\x80\\x9d but far, far beyond him, that eagle kept flapping and over his shoulder called back, \\xe2\\x80\\x9cquit your yapping. i\\'ll fly the night through. i\\'m a bird. i don\\'t mind it. and i\\'ll hide this, tomorrow, where you\\'ll never find it!\\xe2\\x80\\x9d and at 6:56 the next morning he did it. it sure was a terrible place that he hid it. he let that small clover drop somewhere inside of a great patch of clovers a hundred miles wide! \\xe2\\x80\\x9cfind that!\\xe2\\x80\\x9d sneered the bird. \\xe2\\x80\\x9cbut i think you will fail.\\xe2\\x80\\x9d and he left with a flip of his blackbottomed tail. \\xe2\\x80\\x9ci\\'ll find it!\\xe2\\x80\\x9d cried horton. \\xe2\\x80\\x9ci\\'ll find it or bust! i shall find my friends on my small speck of dust!\\xe2\\x80\\x9d and clover, by clover, by clover with care he picked up and searched them, and called, \\xe2\\x80\\x9care you there?\\xe2\\x80\\x9d but clover, by clover, by clover he found that the one that he sough for was just not around. and by noon poor old horton, more dead than alive, had picked, searched, and piled up, nine thousand and five.  then, on through the afternoon, hour after hour... till he found them at last! on the three millionth flower! \\xe2\\x80\\x9cmy friends!\\xe2\\x80\\x9d cried the elephant. \\xe2\\x80\\x9ctell me! do tell! are you safe? are you sound? are you whole? are you well?\\xe2\\x80\\x9d from down on the speck came the voice of the mayor: \\xe2\\x80\\x9cwe\\'ve really had trouble! much more that our share. when that black-bottomed birdie let go and we dropped, we landed so hard that our clocks have all stopped. our tea-pots are broken. our rocking-chairs smashed. and our bicycle tired all blew up when we crashed. so, horton, please!\\xe2\\x80\\x9d pleaded that voice of the mayor\\'s, \\xe2\\x80\\x9cwill you stick by us whos while we\\'re making repairs?\\xe2\\x80\\x9d \\xe2\\x80\\x9cof course,\\xe2\\x80\\x9d horton answered. \\xe2\\x80\\x9cof course i will stick. i\\'ll stick by you small folks through thin and through thick!\\xe2\\x80\\x9d \\xe2\\x80\\x9chumpf!\\xe2\\x80\\x9d humpfed a voice! \\xe2\\x80\\x9cfor almost two days you\\'ve run wild and insisted on chatting with persons who\\'ve never existed. such carryings-on in our peaceable jungle! we\\'ve had quite enough of your bellowing bungle! and i\\'m here to state,\\xe2\\x80\\x9d snapped the big kangaroo, \\xe2\\x80\\x9cthat your silly nonsensical game is all through!\\xe2\\x80\\x9d and the young kangaroo in her pouch said, \\xe2\\x80\\x9cme, too!\\xe2\\x80\\x9d \\xe2\\x80\\x9cwith the help of the wickersham brothers and dozens of wickersham uncles and wickersham cousins and wickersham in-laws, whose help i\\'ve engaged, you\\'re going to be roped! and you\\'re going to be caged! and, as for our dust speck...hah! that we shall boil in hot steaming kettle of beezle-nut oil!\\xe2\\x80\\x9d \\xe2\\x80\\x9cboil it?...\\xe2\\x80\\x9d gasped horton! \\xe2\\x80\\x9coh, that you can\\'t do! it\\'s all full of persons! they\\'ll prove it to you!\\xe2\\x80\\x9d \\xe2\\x80\\x9cmr. mayor! mr. mayor!\\xe2\\x80\\x9d horton called. \\xe2\\x80\\x9cmr. mayor! you\\'ve got to prove now that you really are there! so call a big meeting. get everyone out. make every who holler! make every who shout! make every who scream! if you don\\'t, every who is going to end up in a beezle-nut stew!\\xe2\\x80\\x9d and, down on the dust speck, the scared little mayor quick called a big meeting in who-ville town square. and his people cried loudly. they cried out in fear: \\xe2\\x80\\x9cwe are here! we are here! we are here! we are here!\\xe2\\x80\\x9d the elephant smiled: \\xe2\\x80\\x9cthat was clear as a bell. you kangaroos surely heard that very well.\\xe2\\x80\\x9d \\xe2\\x80\\x9call i heard,\\xe2\\x80\\x9d snapped the big kangaroo, \\xe2\\x80\\x9cwas the breeze, and the faint sound of wind through the far distant trees. i heard no small voices. and you didn\\'t either.\\xe2\\x80\\x9d and the young kangaroo in her pouch said, \\xe2\\x80\\x9cme, neither.\\xe2\\x80\\x9d \\xe2\\x80\\x9cgrab him!\\xe2\\x80\\x9d they shouted. \\xe2\\x80\\x9cand cage the big dope! lasso his stomach with ten miles of rope! tie the knots tight so he\\'ll never shake loose! then dunk that dumb speck in the beezle-nut juice!\\xe2\\x80\\x9d horton fought back with great vigor and vim but the wickersham gang was too many for him. they beat him! they mauled him! they started to haul him into his cage! but he managed to call to the mayor: \\xe2\\x80\\x9cdon\\'t give up! i believe in you all! a person\\'s a person, no  matter how small! and you very small persons will not have to die if you make yourselves heard! so come on, now, and try!\\xe2\\x80\\x9d the mayor grabbed a tom-tom. he started to smack it. and, all over who-ville, they whooped up a racket. they rattled tin kettles! they beat on brass pans, on garbage pail tops and old cranberry cans! they blew on bazookas and blasted great toots on clarinets, oompahs and boom-pahs and flutes! great gusts of loud racket rang high through the air. they rattled and shook the whole sky! and the mayor called up through the howling mad hullabaloo: \\xe2\\x80\\x9chey, horton! how\\'s this? is our sound coming through?\\xe2\\x80\\x9d and horton called back, \\xe2\\x80\\x9ci can hear you fine. but the kangaroos\\' ears aren\\'t as strong, quite, as mine. they don\\'t hear a thing! are you sure all your boys are doing their best? are they all making noise? are you sure every who down in who-ville is working? quick! look through your town! is there anyone shirking?\\xe2\\x80\\x9d through the town rushed the mayor from the east to the west. but everyone seemed to be doing his best. everyone seemed to be yapping or yipping! everyone seemed to be beeping or bipping! but it wasn\\'t enough, all this ruckus and roar! he had to find someone to help him make more. he raced through each building! he searched floor-to-floor! and, just as he felt he as getting nowhere, and almost about to give up in despair, he suddenly burst through a door and that mayor discovered on shirker! quite hidden away in the fairfax apartments (apartment 12-j) a very small, very small shirker named jo-jo was standing, and bouncing a yo-yo! not making a sound! not a yipp! not a chirp! and the mayor rushed inside and he greabbed the young twerp! and he climbed with the lad up the eiffelberg tower. \\xe2\\x80\\x9cthis,\\xe2\\x80\\x9d cried the mayor, \\xe2\\x80\\x9cis your town\\'s darkest hour! the time for all whos who have blood that is red to come to the aid of their country!\\xe2\\x80\\x9d he said. \\xe2\\x80\\x9cwe\\'ve got to make noises in greater amounts! so, open your mouth, lad! for every voice counts!\\xe2\\x80\\x9d thus he spoke as he climbed. when they got to the top, the lad cleared his throat and he shouted out, \\xe2\\x80\\x9cyopp!\\xe2\\x80\\x9d and that yopp... that one small extra yopp put it over! finally, at last! from that speck on that clover their voices were heard! they rang out clear and clean. and the elephant smiled. \\xe2\\x80\\x9cdo you see what i mean?... they\\'ve proved they are persons, not matter how small. and their whole world was saved by the smallest of all!\\xe2\\x80\\x9d \\xe2\\x80\\x9chow true! yes, how true,\\xe2\\x80\\x9d said the big kangaroo. \\xe2\\x80\\x9cand, from now on, you know what i\\'m planning to do?... from now on, i\\'m going to protect them with you!\\xe2\\x80\\x9d and the young kangaroo in her pouch said,... \\xe2\\x80\\x9c...me, too! from sun in the summer. from rain when it\\'s fall-ish, i\\'m going to protect them. no matter how small-ish!one apple up on top!  two apples up on top!  look, you. i can do it, too.  look! see! i can do three!  you can do three, but i can do more. you have three, but i have four.  look!  see, now. i can hop with four apples up on top.  and i can hop up on a tree with four apples up on me.  look here, you two. see here, you two. i can get five on top. can you?  i am so good i will not stop. five! now six! now seven on top!  seven apples up on top! i am so good they will not drop.  five, six, seven! fun, fun, fun! seven, six, five, four, three, two, one!  but, see! we are as good as you. look! now we have seven, too.  and now see here. eight! eight on top! eight apples up! not one will drop.  but i can do nine.  and hop! and drink! you can not do this, i think.one apple up on top!  two apples up on top!  look, you. i can do it, too.  look! see! i can do three!  you can do three, but i can do more. you have three, but i have four.  look!  see, now. i can hop with four apples up on top.  and i can hop up on a tree with four apples up on me.  look here, you two. see here, you two. i can get five on top. can you?  i am so good i will not stop. five! now six! now seven on top!  seven apples up on top! i am so good they will not drop.  five, six, seven! fun, fun, fun! seven, six, five, four, three, two, one!  but, see! we are as good as you. look! now we have seven, too.  and now see here. eight! eight on top! eight apples up! not one will drop.  but i can do nine.  and hop! and drink! you can not do this, i think.if we didn\\'t have birthdays, you wouldn\\'t be you. if you\\'d never been born, well then what would you do? if you\\'d never been born, well then what would you be? you might be a fish! or a toad in a tree! you might be a doorknob! or three baked potatoes! you might be a bag full of hard green tomatoes.  or worse than all that...why, you might be a wasn\\'t! a wasn\\'t has no fun at all. no, he doesn\\'t. a wasn\\'t just isn\\'t. he just isn\\'t present. but you...you are you! and, now isn\\'t that pleasant!  today you are you! that is truer than true! there is no one alive... ...who is you-er than you! shout loud, \\xe2\\x80\\x9ci am lucky to be what i am! thank goodness i\\'m not just a clam or a ham or a dusty old jar of sour gooseberry jam! i am what i am! that\\'s a great thing to be! if i say so myself, happy birthday to me!it\\'s a\\xc2\\xa0pretty good\\xc2\\xa0zoo,\\xe2\\x80\\x9d\\xc2\\xa0 said\\xc2\\xa0young\\xc2\\xa0gerald\\xc2\\xa0mcgrew,\\xc2\\xa0 \\xe2\\x80\\x9cand\\xc2\\xa0the\\xc2\\xa0fellow\\xc2\\xa0who runs it\\xc2\\xa0 seems proud of it too. but if i ran the\\xc2\\xa0zoo,\\xe2\\x80\\x9d\\xc2\\xa0 said\\xc2\\xa0young\\xc2\\xa0gerald\\xc2\\xa0mcgrew,\\xc2\\xa0 \\xe2\\x80\\x9ci\\'d\\xc2\\xa0make a\\xc2\\xa0few changes. that\\'s just what i\\'d\\xc2\\xa0do. the\\xc2\\xa0lions and\\xc2\\xa0tigers and\\xc2\\xa0that kind\\xc2\\xa0of stuff they have\\xc2\\xa0up\\xc2\\xa0here\\xc2\\xa0now\\xc2\\xa0are\\xc2\\xa0not quite\\xc2\\xa0good\\xc2\\xa0enough. you\\xc2\\xa0see things like\\xc2\\xa0these\\xc2\\xa0in any old\\xc2\\xa0zoo. they\\'re\\xc2\\xa0awfully old\\xc2\\xadfashioned. i want something\\xc2\\xa0new! so\\xc2\\xa0i\\'d open each cage,\\xc2\\xa0i\\'ll unlock\\xc2\\xa0every pen, let the\\xc2\\xa0animals go and\\xc2\\xa0start\\xc2\\xa0over\\xc2\\xa0again. and\\xc2\\xa0somehow\\xc2\\xa0or other\\xc2\\xa0i think\\xc2\\xa0i could\\xc2\\xa0find\\xc2\\xa0 some\\xc2\\xa0beasts of some\\xc2\\xa0beasts of a\\xc2\\xa0more\\xc2\\xa0unusual kind. a four\\xc2\\xadfooted\\xc2\\xa0lion\\'s not much of a\\xc2\\xa0beast. the\\xc2\\xa0one\\xc2\\xa0in my zoo\\xc2\\xa0will have\\xc2\\xa010\\xc2\\xa0feet at least. five\\xc2\\xa0legs on the\\xc2\\xa0left and\\xc2\\xa0five\\xc2\\xa0more\\xc2\\xa0on the\\xc2\\xa0right. then people\\xc2\\xa0will stare, and\\xc2\\xa0they\\'ll say, \\xe2\\x80\\x98what a\\xc2\\xa0sight!\\' my new\\xc2\\xa0zoo, mcgrew zoo, will make\\xc2\\xa0people\\xc2\\xa0talk. my new zoo, mcgrew zoo, will make people\\xc2\\xa0gawk. they\\'ll be\\xc2\\xa0so surprised,\\xc2\\xa0they\\'ll swallow\\xc2\\xa0their gum. they\\'ll ask\\xc2\\xa0when they see my strange\\xc2\\xa0animals come, \\xe2\\x80\\x98where\\xc2\\xa0do you\\xc2\\xa0suppose\\xc2\\xa0he\\xc2\\xa0gets things like\\xc2\\xa0that from?\\'\\xc2\\xa0 if you\\xc2\\xa0want to\\xc2\\xa0catch beasts you\\xc2\\xa0don\\'t see every day, you\\xc2\\xa0have\\xc2\\xa0to go\\xc2\\xa0places quite\\xc2\\xa0out of the\\xc2\\xa0way. you\\xc2\\xa0have\\xc2\\xa0to go\\xc2\\xa0places no others can get to. you\\xc2\\xa0have\\xc2\\xa0to get\\xc2\\xa0cold\\xc2\\xa0and\\xc2\\xa0you\\xc2\\xa0have\\xc2\\xa0to\\xc2\\xa0get wet too. i\\'ll catch \\xe2\\x80\\x98em in caves, i\\'ll catch \\xe2\\x80\\x98em in brooks, i\\'ll catch \\xe2\\x80\\x98em in crannies, i\\'ll catch \\xe2\\x80\\x98em in\\xc2\\xa0nooks that you\\xc2\\xa0don\\'t\\xc2\\xa0read\\xc2\\xa0about in geography books. i\\'ll load\\xc2\\xa0up\\xc2\\xa0five\\xc2\\xa0boats with a\\xc2\\xa0family of joats whose\\xc2\\xa0feet are\\xc2\\xa0like\\xc2\\xa0cows, but wear squirrel\\xc2\\xadskin\\xc2\\xa0coats, and\\xc2\\xa0sit like\\xc2\\xa0dogs, but have\\xc2\\xa0voices like\\xc2\\xa0goats\\xe2\\x80\\x94\\xc2\\xa0 excepting\\xc2\\xa0they can\\'t sing\\xc2\\xa0the\\xc2\\xa0very high notes. and\\xc2\\xa0then i\\'ll go down to\\xc2\\xa0the\\xc2\\xa0wilds of nantucket, and\\xc2\\xa0capture\\xc2\\xa0a\\xc2\\xa0family of lunks in a\\xc2\\xa0bucket. then people\\xc2\\xa0will say, \\xe2\\x80\\x98now\\xc2\\xa0i like\\xc2\\xa0that boy heaps. his new\\xc2\\xa0zoo, mcgrew zoo, is growing\\xc2\\xa0by leaps. he captures them wild, he\\xc2\\xa0captures them meek,\\xc2\\xa0 he captures them slim, he\\xc2\\xa0captures them sleek. what do\\xc2\\xa0you\\xc2\\xa0suppose\\xc2\\xa0he\\xc2\\xa0will capture\\xc2\\xa0next week?\\' in the\\xc2\\xa0far\\xc2\\xa0western part\\xc2\\xa0 in southeast north dakota\\xc2\\xa0 lives a\\xc2\\xa0very fine\\xc2\\xa0animal called\\xc2\\xa0the\\xc2\\xa0iota.\\xc2\\xa0 but i\\'ll capture\\xc2\\xa0one\\xc2\\xa0 who is even much finer\\xc2\\xa0 in the\\xc2\\xa0northeastern west part of south carolina.\\xc2\\xa0 when people\\xc2\\xa0see\\xc2\\xa0him they will say, \\xe2\\x80\\x98now\\xc2\\xa0by thunder! this new\\xc2\\xa0zoo, mcgrew zoo, is really a\\xc2\\xa0wonder!\\' i\\'ll bag\\xc2\\xa0a\\xc2\\xa0big\\xc2\\xa0bug\\xc2\\xa0 who is very surprising, a\\xc2\\xa0feller\\xc2\\xa0who has a propeller\\xc2\\xa0for rising\\xc2\\xa0 and\\xc2\\xa0zooming\\xc2\\xa0around\\xc2\\xa0making\\xc2\\xa0cross\\xc2\\xadcountry hops, from texas to\\xc2\\xa0boston with only two\\xc2\\xa0stops. now\\xc2\\xa0that\\xc2\\xa0kind\\xc2\\xa0of thing\\xc2\\xa0for a\\xc2\\xa0bug\\xc2\\xa0is just tops! in a\\xc2\\xa0cave\\xc2\\xa0in kartoom is a\\xc2\\xa0beast called\\xc2\\xa0a\\xc2\\xa0natch\\xc2\\xa0 that no other\\xc2\\xa0hunter\\'s been able\\xc2\\xa0to\\xc2\\xa0catch. he\\'s hidden for years in his cave\\xc2\\xa0with a\\xc2\\xa0pout\\xc2\\xa0 and\\xc2\\xa0no one\\'s been able\\xc2\\xa0to make him come\\xc2\\xa0out. but i\\'ll coax him out with a\\xc2\\xa0wonderful meal\\xc2\\xa0 that\\'s cooked\\xc2\\xa0by my cooks in my cooker mobile.\\xc2\\xa0 they\\'ll fix\\xc2\\xa0up\\xc2\\xa0a\\xc2\\xa0dish that is just to\\xc2\\xa0his taste\\xcd\\xbe\\xc2\\xa0 three chicken croquettes made of library paste.\\xc2\\xa0 then sprinkled\\xc2\\xa0with peanut shucks, pickled\\xc2\\xa0and\\xc2\\xa0spiced, then baked\\xc2\\xa0at 600 degrees and\\xc2\\xa0then iced. it\\'s mighty hard\\xc2\\xa0cooking\\xc2\\xa0to cook up\\xc2\\xa0such feasts but that\\'s how\\xc2\\xa0the\\xc2\\xa0new\\xc2\\xa0zoo, mcgrew\\xc2\\xa0zoo, gets beasts. \\xe2\\x80\\x98he hunts with such vims, he\\xc2\\xa0hunts with such vigor. his new\\xc2\\xa0zoo, mcgrew\\'s zoo, gets bigger\\xc2\\xa0and\\xc2\\xa0bigger.\\' then the\\xc2\\xa0whole\\xc2\\xa0town will gasp, \\xe2\\x80\\x98why this boy never\\xc2\\xa0sleeps! no keeper before\\xc2\\xa0ever\\xc2\\xa0kept what\\xc2\\xa0he\\xc2\\xa0keeps. there\\'s\\xc2\\xa0no telling\\xc2\\xa0what that young\\xc2\\xa0fellow\\xc2\\xa0will do!\\' and\\xc2\\xa0then, just to show\\xc2\\xa0them, i\\'ll sail to ka\\xc2\\xadtroo\\xc2\\xa0 and\\xc2\\xa0bring\\xc2\\xa0back\\xc2\\xa0an it\\xc2\\xadkutch a\\xc2\\xa0preep\\xc2\\xa0and\\xc2\\xa0a\\xc2\\xa0proo, a nerkle, a\\xc2\\xa0nerd\\xc2\\xa0and\\xc2\\xa0a\\xc2\\xa0seersucker too. \\xe2\\x80\\x98this zookeeper, new\\xc2\\xa0keeper\\'s simply astounding.\\' he travels so far\\xc2\\xa0that you\\xc2\\xa0think\\xc2\\xa0he\\'d\\xc2\\xa0drop! when do you\\xc2\\xa0suppose\\xc2\\xa0this young\\xc2\\xa0fellow\\xc2\\xa0will stop?\\'\\xc2\\xa0 stop... ?\\xc2\\xa0 well, i should. but i won\\'t stop\\xc2\\xa0until\\xc2\\xa0 i\\'ve\\xc2\\xa0captures the\\xc2\\xa0fizza\\xc2\\xadma\\xc2\\xadwizza\\xc2\\xadma\\xc2\\xaddill, the\\xc2\\xa0world\\'s biggest bird\\xc2\\xa0from the\\xc2\\xa0island\\xc2\\xa0of gwark\\xc2\\xa0 who only eats pine\\xc2\\xa0trees and\\xc2\\xa0spits out the\\xc2\\xa0bark. and\\xc2\\xa0boy! when i get\\xc2\\xa0him back\\xc2\\xa0home\\xc2\\xa0to\\xc2\\xa0my park, the\\xc2\\xa0whole\\xc2\\xa0world\\xc2\\xa0will say, \\xe2\\x80\\x98young\\xc2\\xa0mcgrew\\'s made\\xc2\\xa0his mark.\\'on the last day of summer, ten hours before fall...  my grandfather took me out to the wall.   for a while he stood silent. then finally he said, with a very sad shake of his very old head, \\xe2\\x80\\x9cas you know, on this side of the wall we are yooks.  on the far other side of this wall live the zooks.\\xe2\\x80\\x9d   then my grandfather said, \\xe2\\x80\\x9cit\\'s high time that you knew of the terribly horrible thing that zooks do.  in every zook house and in every zook town every zook eats his bread with the butter side down!\\xe2\\x80\\x9d   \\xe2\\x80\\x9cbut we yooks, as you know, when we breakfast or sup, spread our bread,\\xe2\\x80\\x9d  grandpa said, \\xe2\\x80\\x9cwith the butter side up.  that\\'s the right, honest way!\\xe2\\x80\\x9d  grandpa gritted his teeth. \\xe2\\x80\\x9cso you can\\'t trust a zook who spreads bread underneath! every zook must be watched! he has kinks in his soul!  that\\'s why, as a youth, i made watching my goal, watching zooks for the zook-watching border patrol!  in those day, of course, the wall wasn\\'t so high and i could look any zook square in the eye.   if he dared to come close i could give him a twitch with my tough tufted prickely snick-berry switch.  for a while that worked fine.  all the zooks stayed away and our country was safe.  then one terrible day a very rude zook by the name of vanitch snuck up and slingshotted my snick-berry switch!  with my broken- off switch, with my head hung in shame, to the chief lookeroo in great sorrow i came.  but our leader just smiled.  he said, \\xe2\\x80\\x9c you\\'re not to blame.  and those zooks will be sorry they started this game.   \\xe2\\x80\\x9cwe\\'ll dress you right up in a fancier suit!  we\\'ll give you a fancier slingshot to shoot!\\xe2\\x80\\x9d  and he ordered the boys in the back room to figger how to build me some sort of triple-sling jigger.   with my triple-sling jigger i sure felt much bigger.   i marched to the wall with great vim and great vigor, right up to vanitch with my hand on the trigger.  \\xe2\\x80\\x9ci\\'ll have no more nonsense,\\xe2\\x80\\x9d  i said with a frown, \\xe2\\x80\\x9cfrom zooks who eat bread with the butter side down!\\xe2\\x80\\x9d   vanitch looked quite sickly.  he ran off quite quickly.   i\\'m unhappy to say he came back the next day in a spiffy new suit with a big new machine, and he snarled as he said, looking frightfully mean, \\xe2\\x80\\x9cyou may fling those hard rocks with your triple-sling jigger.  but i, also, now have my hand on a trigger!   \\xe2\\x80\\x9cmy wonderful weapon, the jigger-rock snatchem, will fling \\xe2\\x80\\x98em right back just as quick as we catch \\xe2\\x80\\x98em.  we\\'ll have no more nonsense.  we\\'ll take no more gupp from you yooks who eat bread with th butter side up!\\xe2\\x80\\x9d  \\xe2\\x80\\x9ci have failed, sir,\\xe2\\x80\\x9d  i sobbed as i made my report to the chief yookeroo in the headquarters fort.  he just laughed. \\xe2\\x80\\x9cyou\\'ve done nothing at all of the sort.  our slingshots have failed.  that was old-fashioned stuff.  slingshots, dear boy, are not modern enough.   \\xe2\\x80\\x9call we need is some newfangled kind of gun.  my boys in the back room have already begun to think up a walloping whiz-zinger one!  my bright boys are thinking.  they\\'re on the right track.  they\\'ll think one up quick and we\\'ll send you right back!\\xe2\\x80\\x9d   they thought up a great one!  they certainly did.  they thought up a gun called the kick-a-doo powder and ant\\'s eggs and bees\\' legs and dried-fried clam chowder.  and they carefully trained a real smart dog named daniel to serve as our country\\'s first gun-toting spaniel.   then daniel, the kick-a-poo spaniel, and i marched back toward the wall with our heads held up gigh while everyone cheered and their cheers filled the sky; \\xe2\\x80\\x9cfight! fight for the butter side up! do or die!\\xe2\\x80\\x9d   well...  we didn\\'t do.  and we didn\\'t quite die.  but we sure did get worsted, poor daniel and i.  vanitch was there too! and he said, the old pig, \\xe2\\x80\\x9cthe boys as in my back room invented this rig called the eight-nozzled, elephant-toted boom-blitz.  it shoots high-explosive sour cherry stone pits and will put your dumb kick-a-poo kid on the fritz!\\xe2\\x80\\x9d  poor daniel and i were scared out of our witz!   once more, by vanitch i was bested and beat.  once again i limped home from the wall in defeat.  i dragged and i sagged and my spirits were low, as low as i thought that they ever could go, when i heard a boom-bah! and a diddle-dee-dill!  and our butter-up band marched up over the hill!   the chief yookeroo had sent them to meet me along with the right-side-up song girls to greet me.  they sang:  \\xe2\\x80\\x9coh, be faithful! believe in thy butter!\\xe2\\x80\\x9d  and they lifted my spirits right out of the gutter!   \\xe2\\x80\\x9cmy boy\\xe2\\x80\\x9d, smiled the chief yookeroo, \\xe2\\x80\\x9cwe\\'ve just voted and made you a general! you\\'ve been promoted.  your pretty new uniform\\'s ready.  get in it! the big war is coming.  you\\'re going to begin it!  and what\\'s more, this time you are certain to win it.   \\xe2\\x80\\x9cmy boys in the back room have finally found how.  just wait till you see what they\\'ve puttered up now!  in their great new machine you\\'ll fly over that wall and clobber those butter-down zooks one and all!\\xe2\\x80\\x9d   those boys in the back room sure knew how to putter! they made me a thing called the utterly sputter and i jumped aboard with my heart all aflutter and steered toward the land of the upside-down butter.   this machine was so modern, so frightfully new, no one knew quite exactly just what it would do!   but it had several faucets that sprinkled blue goo which, somehow, would sprinkle the zooks as i flew and gum up that upside-down butter they chew.   i was racing pell-mell when i heard a voice yell, \\xe2\\x80\\x9cif you sprinkle us zooks, you\\'ll get sprinkled as well!\\xe2\\x80\\x9d   vanitch had a sputter exactly like mine!  and he yelled, \\xe2\\x80\\x9cmy blue-gooer is working just fine!  and i\\'m here to say that if yooks can goo zooks, you\\'d better forget it. \\xe2\\x80\\x98cause zooks can goo yooks!\\xe2\\x80\\x9d  i flew right back home and, as you may have guessed, i was downright despondent, disturbed, and depressed.  and i saw, just as soon as i stepped back on land, so were all of the girls of the butter-up band.   the chief drum majorette, miz yookie-ann sue, said, \\xe2\\x80\\x9cthat was a pretty sour flight that you flew.  and the chief yookeroo has been looking for you!\\xe2\\x80\\x9d  i raced to his office.  the place was a sight.  \\xe2\\x80\\x9chave no fears,\\xe2\\x80\\x9d said the chief.  \\xe2\\x80\\x9ceverything is all right.  my bright back room boys have been brighter than bright.  they\\'ve thought up a gadget that\\'s newer than new.  it is filled with mysterious moo-lacka-moo and can blow all those zooks clear to sala-ma-goo.  they\\'ve invented the bitsy big-boy boomeroo!   \\xe2\\x80\\x9cyou just run to the wall like a nice little man.  drop this bomb on the zooks just as fast as you can.  i have ordered all yooks to stay safe underground while the bitsy big-boy boomeroo is around.\\xe2\\x80\\x9d   as i raced for that wall, with the bomb in my hand, i noticed that every last yook in our land was obeying our chief yookeroo\\'s grim command.   they were all bravely marching, with banners aflutter, down a hole! for their country!  and right-side-up butter!   that\\'s when grandfather found me!  he grabbed me.  he said, \\xe2\\x80\\x9cyou should be down that hole!  and you\\'re up here instead!  but perhaps this is all for the better, somehow.  you will see me make history! right here! and right now!  grandpa leapt up that wall with a lopulous leap and he clearedhis harse throat with a bopulous beep.  he screamed, \\xe2\\x80\\x9chere\\'s the end of that terrible town full of zooks who eat bread with the butter side down!\\xe2\\x80\\x9d   and at the very instant we heard a klupp-klupp of feet on the wall and old vanitch klupped up! the boys in his back room had made him one too!  in his fist was another big-boy boomeroo!  \\xe2\\x80\\x9ci\\'ll blow you,\\xe2\\x80\\x9d he yelled, \\xe2\\x80\\x9cinto pork and wee beans! i\\'ll butter-side-up you to small smithereens!\\xe2\\x80\\x9d  \\xe2\\x80\\x9cgrandpa!\\xe2\\x80\\x9d  i shouted.  \\xe2\\x80\\x9cbe careful! oh, gee! who\\'s going to drop it?  will you...? or will he...?  \\xe2\\x80\\x9cbe patient,\\xe2\\x80\\x9d said grandpa. \\xe2\\x80\\x9cwe\\'ll see. we will see...\\xe2\\x80\\x9dleft foot, left foot right foot, right. feet in the morning. feet at night. left foot, left foot, left foot, right. wet foot, dry foot. high foot, low foot. front feet, back feet. red feet, black feet. left foot, right foot. feet, feet, feet. how many, many feet you meet. slow feet, quick feet. trick feet, sick feet. up feet, down feet. here come clown feet. small feet, big feet. here come pig feet. his feet, her feet. fuzzy fur feet. in the house, and on the street how many, many feet you meet. up in the air feet, over a chair feet. more and more feet twenty-four feet here come more and more.............. ..........and more feet! left foot. right foot. feet. feet. feet. oh, how many feet you meet!\\xe2\\x80\\x9dcongratulations! today is your day. you\\'re off to great places! you\\'re off and away!  you have brains in your head. you have feet in your shoes. you can steer yourself  any direction you choose. you\\'re on your own. and you know what you know. and you are the guy who\\'ll decide where to go.  you\\'ll look up and down streets. look \\'em over with care. about some you will say, \"i don\\'t choose to go there.\" with your head full of brains and your shoes full of feet,  you\\'re too smart to go down any not-so-good street.  and you may not find any you\\'ll want to go down. in that case, of course, you\\'ll head straight out of town.  it\\'s opener there in the wide open air.  out there things can happen and frequently do to people as brainy and footsy as you.  and then things start to happen, don\\'t worry. don\\'t stew. just go right along. you\\'ll start happening too.  oh! the places you\\'ll go!  you\\'ll be on y our way up! you\\'ll be seeing great sights! you\\'ll join the high fliers who soar to high heights.  you won\\'t lag behind, because you\\'ll have the speed. you\\'ll pass the whole gang and you\\'ll soon take the lead. wherever you fly, you\\'ll be best of the best. wherever you go, you will top all the rest.  except when you don\\'t. because, sometimes, you won\\'t.  i\\'m sorry to say so but, sadly, it\\'s true that bang-ups and hang-ups can happen to you.  you can get all hung up in a prickle-ly perch. and your gang will fly on. you\\'ll be left in a lurch.  you\\'ll come down from the lurch with an unpleasant bump. and the chances are, then, that you\\'ll be in a slump.  and when you\\'re in a slump, you\\'re not in for much fun. un-slumping yourself is not easily done.  you will come to a place where the streets are not marked. some windows are lighted. but mostly they\\'re darked. a place you could sprain both your elbow and chin! do you dare to stay out? do you dare to go in? how much can you lose? how much can you win?  and if you go in, should you turn left or right... or right-and-three-quarters? or, maybe, not quite? or go around back and sneak in from behind? simple it\\'s not, i\\'m afraid you will find, for a mind-maker-upper to make up his mind.  you can get so confused that you\\'ll start in to race down long wiggled roads at a break-necking pace and grind on for miles cross weirdish wild space, headed, i fear, toward a most useless place. the waiting place...  ...for people just waiting. waiting for a train to go or a bus to come, or a plane to go or the mail to come, or the rain to go or the phone to ring, or the snow to snow or the waiting around for a yes or no or waiting for their hair to grow. everyone is just waiting.  waiting for the fish to bite or waiting for the wind to fly a kite or waiting around for friday night or waiting, perhaps, for their uncle jake or a pot to boil, or a better break or a string of pearls, or a pair of pants or a wig with curls, or another chance. everyone is just waiting.  no! that\\'s not for you!  somehow you\\'ll escape all that waiting and staying you\\'ll find the bright places where boom bands are playing.  with banner flip-flapping, once more you\\'ll ride high! ready for anything under the sky. ready because you\\'re that kind of a guy!  oh, the places you\\'ll go! there is fun to be done! there are points to be scored. there are games to be won. and the magical things you can do with that ball will make you the winning-est winner of all. fame! you\\'ll be as famous as famous can be, with the whole wide world watching you win on tv.  except when they don\\'t because, sometimes they won\\'t.  i\\'m afraid that some times you\\'ll play lonely games too. games you can\\'t win \\'cause you\\'ll play against you.  all alone! whether you like it or not, alone will be something you\\'ll be quite a lot.  and when you\\'re alone, there\\'s a very good chance you\\'ll meet things that scare you right out of your pants. there are some, down the road between hither and yon, that can scare you so much you won\\'t want to go on.  but on you will go though the weather be foul. on you will go though your enemies prowl. on you will go though the hakken-kraks howl. onward up many a frightening creek, though your arms may get sore and your sneakers may leak.  on and on you will hike, and i know you\\'ll hike far and face up to your problems whatever they are.  you\\'ll get mixed up, of course, as you already know. you\\'ll get mixed up  with many strange birds as you go. so be sure when you step. step with care and great tact and remember that life\\'s  a great balancing act. just never foget to be dexterous and deft. and never mix up your right foot with your left.  and will you succeed? yes! you will, indeed! (98 and 3/4 percent guaranteed.)  kid, you\\'ll move mountains!  so... be your name buxbaum or bixby or bray or mordecai ali van allen o\\'shea, you\\'re off the great places! today is your day! your mountain is waiting. so...get on your way!now, the star-belly sneetches-  had bellies with stars.  the plain-belly sneetches-had none upon thars.    those stars weren\\'t so big. they were really so small.  you might think such a thing wouldn\\'t matter at all.   but, because they had stars, all the star-belly sneetches  would brag, \\xe2\\x80\\x9cwe\\'re the best kind of sneetch on the beaches.  with their snoots in the air, they would sniff and they\\'d snort  \\xe2\\x80\\x9cwe\\'ll have nothing to do with the plain-belly sort!\\xe2\\x80\\x9d  and whenever they met some, when they were out walking,  they\\'d hike right on past them without even talking.    when the star-belly children went out to play ball,  could a plain- belly get in the game...? not at all.  you only could play if your bellies had stars  and the plain-belly children had none upon thars.   when the star-belly sneetches had frankfurter roasts  or picnics or parties or marshmallow toasts,  they never invited the plain-belly sneetches.  they left them out cold, in the dark of the beaches.  they kept them away. never let them come near.  and that\\'s how they treated them year after year.   then one day, seems...while the plain-belly sneetches  were moping and doping alone on the beaches,  just sitting there wishing their bellies had stars...  a stranger zipped up in the strangest of cars!      \\xe2\\x80\\x9cmy friends,\\xe2\\x80\\x9d he announced in a voice clear and keen,  \\xe2\\x80\\x9cmy name is sylvester mcmonkey mcbean.  and i\\'ve heard of your troubles. i\\'ve heard you\\'re unhappy.  but i can fix that. i\\'m the fix-it-up chappie.  i\\'ve come here to help you. i have what you need.  and my prices are low. and i work at great speed.  and my work is one hundred per cent guaranteed!      then, quickly sylvester mcmonkey mcbean  put together a very peculiar machine.  and he said, \\xe2\\x80\\x9cyou want stars like a star-belly sneetch...?  my friends, you can have them for three dollars each!\\xe2\\x80\\x9d   \\xe2\\x80\\x9cjust pay me your money and hop right aboard!\\xe2\\x80\\x9d  so they clambered inside. then the big machine roared  and it klonked. and it bonked. and it jerked. and it berked  and it bopped them about. but the thing really worked!  when the plain-belly sneetches popped out, they had stars!  they actually did. they had stars upon thars!   then they yelled at the ones who had stars at the start,  \\xe2\\x80\\x9cwe\\'re exactly like you! you can\\'t tell us apart.  we\\'re all just the same, now, you snooty old smarties!  and now we can go to your frankfurter parties.\\xe2\\x80\\x9d   \\xe2\\x80\\x9cgood grief!\\xe2\\x80\\x9d groaned the ones who had stars at the first.  \\xe2\\x80\\x9cwe\\'re still the best sneetches and they are the worst.  but, now, how in the world will we know,\\xe2\\x80\\x9d they all frowned,  \\xe2\\x80\\x9cif which kind is what, or the other way round?\\xe2\\x80\\x9d   then came  mcbean with a very sly wink.  and he said, \\xe2\\x80\\x9cthings are not quite as bad as you think.  so you don\\'t know who\\'s who. that is perfectly true.  but come with me, friends. do you know what i\\'ll do?  i\\'ll make you, again, the best sneetches on beaches  and all it will cost you is ten dollars eaches.\\xe2\\x80\\x9d   \\xe2\\x80\\x9cbelly stars are no longer in style,\\xe2\\x80\\x9d said mcbean.  \\xe2\\x80\\x9cwhat you need is a trip through my star-off machine.  this wondrous contraption will take off your stars  so you won\\'t look like sneetches who have them on thars.\\xe2\\x80\\x9d  and that handy machine working very precisely  removed all the stars from their tummies quite nicely.   then, with snoots in the air, they paraded about  and they opened their beaks and they let out a shout,  \\xe2\\x80\\x9cwe know who is who! now there isn\\'t a doubt.  the best kind of sneetches are sneetches without!\\xe2\\x80\\x9d   then, of course, those with stars all got frightfully mad.  to be wearing a star now was frightfully bad.  then, of course, old sylvester mcmonkey mcbean  invited them into his star-off machine.   then, of course from then on, as you probably guess,  things really got into a horrible mess.  all the rest of that day, on those wild screaming beaches,  the fix-it-up chappie kept fixing up sneetches.  off again! on again!  in again! out again!  through the machines they raced round and about again,  changing their stars every minute or two.  they kept paying money. they kept running through  until neither the plain nor the star-bellies knew  whether this one was that one...or that one was this one  or which one was what one ...or what one was who.   then, when every last cent  of their money was spent,  the fix-it-up chappie packed up  and he went.   and he laughed as he drove  in his car up the beach,  \\xe2\\x80\\x9cthey never will learn.  no. you can\\'t teach a sneetch!\\xe2\\x80\\x9d   but mcbean was quite wrong. i\\'m quite happy to say  that the sneetches got really quite smart on that day,  the day they decided that sneetches are sneetches  and no kind of sneetch is the best on the beaches  that day, all the sneetches forgot about stars  and whether they had one, or not, upon thars.at the far end of town where the grickle-grass grows and the wind smells slow-and-sour when it blows and no birds ever sing excepting old crows... is the street of the lifted lorax. and deep in the grickle-grass, some people say, if you look deep enough you can still see, today, where the lorax once stood just as long as it could before somebody lifted the lorax away. what was the lorax? and why was it there? and why was it lifted and taken somewhere from the far end of town where the grickle-grass grows? the old once-ler still lives here. ask him. he knows. you won\\'t see the once-ler. don\\'t knock at his door. he stays in his lerkim on top of his store. he lurks in his lerkim, cold under the roof, where he makes his own clothes out of miff-muffered moof. and on special dank midnights in august, he peeks out of the shutters and sometimes he speaks and tells how the lorax was lifted away. he\\'ll tell you, perhaps... if you\\'re willing to pay.  on the end of a rope he lets down a tin pail and you have to toss in fifteen cents and a nail and the shell of a great-great-great- grandfather snail. then he pulls up the pail, makes a most careful count to see if you\\'ve paid him the proper amount. then he hides what you paid him away in his snuvv, his secret strange hole in his gruvvulous glove. then he grunts, \"i will call you by whisper-ma-phone, for the secrets i tell you are for your ears alone.\"  slupp! down slupps the whisper-ma-phone to your ear and the old once-ler\\'s whispers are not very clear, since they have to come down through a snergelly hose, and he sounds as if he had smallish bees up his nose. \"now i\\'ll tell you,\"he says, with his teeth sounding gray, \"how the lorax got lifted and taken away...  external image s_lorax1.jpg external image s_lorax1.jpg   it all started way back... such a long, long time back... way back in the days when the grass was still green and the pond was still wet and the clouds were still clean, and the song of the swomee-swans rang out in space... one morning, i came to this glorious place. and i first saw the trees! the truffula trees! the bright-colored tufts of the truffula trees! mile after mile in the fresh morning breeze. and, under the trees, i saw brown bar-ba-loots frisking about in their bar-ba-loot suits as they played in the shade and ate truffula fruits. from the rippulous pond came the comfortable sound of the humming-fish humming while splashing around.  external image s_lorax2.jpg external image s_lorax2.jpg   but those trees! those trees! those truffula trees! all my life i\\'d been searching for trees such as these. the touch of their tufts was much softer than silk. and they had the sweet smell of fresh butterfly milk. i felt a great leaping of joy in my heart. i knew just what i\\'d do! i unloaded my cart. in no time at all, i had built a small shop. then i chopped down a truffula tree with one chop. and with great skillful skill and with great speedy speed, i took the soft tuft, and i knitted a thneed! the instant i\\'d finished, i heard a ga-zump! i looked. i saw something pop out of the stump of the tree i\\'d chopped down. it was sort of a man. describe him?... that\\'s hard. i don\\'t know if i can.  external image s_lorax3.jpg external image s_lorax3.jpg   he was shortish. and oldish. and brownish. and mossy. and he spoke with a voice that was sharpish and bossy. \"mister!\" he said with a sawdusty sneeze, \"i am the lorax. i speak for the trees. i speak for the trees, for the trees have no tongues. and i\\'m asking you, sir, at the top if my lungs\"- he was very upset as he shouted and puffed- \"what\\'s that thing you\\'ve made out of my truffula tuft?\" \"look, lorax,\" i said.\"there\\'s no cause for alarm. i chopped just one tree. i am doing no harm. i\\'m being quite useful. this thing is a thneed. a thneed\\'s a fine-something-that-all-people-need! it\\'s a shirt. it\\'s a sock. it\\'s a glove, it\\'s a hat. but it has other uses. yes, far beyond that. you can use it for carpets. for pillows! for sheets! or curtains! or covers for bicycle seats!\" the lorax said, \"sir! you are crazy with greed. there is no one on earth who would buy that fool thneed!\"  external image s_lorax4.jpg external image s_lorax4.jpg   but the very next minute i proved he was wrong. for, just at that minute, a chap came along, and he thought the thneed i had knitted was great. he happily bought it for three ninety-eight i laughed at the lorax, \"you poor stupid guy! you never can tell what some people will buy.\" \"i repeat,\" cried the lorax, \"i speak for the trees!\" \"i\\'m busy,\" i told him. \"shut up, if you please.\" i rushed \\'cross the room, and in no time at all, built a radio-phone. i put in a quick call. i called all my brothers and uncles and aunts and i said, \"listen here! here\\'s a wonderful chance for the whole once-ler family to get mighty rich! get over here fast! take the road to north nitch. turn left at weehawken. sharp right at south stitch.\" and, in no time at all, in the factory i built, the whole once-ler family was working full tilt. we were all knitting thneeds just as busy as bees, to the sound of the chopping of truffula trees.   then... oh! baby! oh! how my business did grow! now, chopping one tree at a time was too slow. so i quickly invented my super-axe-hacker which whacked off four truffula trees at one smacker. we were making thneeds four times as fast as before! and that lorax?... he didn\\'t show up any more. but the next week he knocked on my new office door. he snapped, \"i am the lorax who speaks for the trees which you seem to be chopping as fast as you please. but i\\'m also in charge of the brown bar-ba-loots who played in the shade in their bar-ba-loot suits and happily lived, eating truffula fruits. \"now... thanks to your hacking my trees to the ground, there\\'s not enought truffula fruit to go \\'round. and my poor bar-ba-loots are all getting the crummies because they have gas, and no food, in their tummies! \"they loved living here. but i can\\'t let them stay. they\\'ll have to find food. and i hope that they may. good luck, boys,\" he cried. and he sent them away. i, the old once-ler, felt sad as i watched them all go. but... business is business! and business must grow regardless of crummies in tummies, you know.  external image s_lorax5.jpg external image s_lorax5.jpg   i meant no harm. i most truly did not. but i had to grow bigger.so bigger i got. i biggered my factory. i biggered my roads. i biggered my wagons. i biggered the loads of the thneeds i shipped out. i was shipping them forth to the south! to the east! to the west! to the north! i went right on biggering... selling more thneeds. and i biggered my money, which everyone needs. then again he came back! i was fixing some pipes when that old-nuisance lorax came back with more gripes. \"i am the lorax,\" he coughed and he whiffed. he sneezed and he snuffled. he snarggled. he sniffed. \"once-ler!\" he cried with a cruffulous croak. \"once-ler! you\\'re making such smogulous smoke! my poor swomee-swans... why, they can\\'t sing a note! no one can sing who has smog in his throat. \"and so,\" said the lorax, \"-please pardon my cough- they cannot live here. so i\\'m sending them off. \"where will they go?... i don\\'t hopefully know. they may have to fly for a month... or a year... to escape from the smog you\\'ve smogged up around here.   \"what\\'s more,\" snapped the lorax. (his dander was up.) \"let me say a few words about gluppity-glupp. your machine chugs on, day and night without stop making gluppity-glupp. also schloppity-schlopp. and what do you do with this leftover goo?... i\\'ll show you. you dirty old once-ler man, you! \"you\\'re glumping the pond where the humming-fish hummed! no more can they hum, for their gills are all gummed. so i\\'m sending them off. oh, their future is dreary. they\\'ll walk on their fins and get woefully weary in search of some water that isn\\'t so smeary.\" and then i got mad. i got terribly mad. i yelled at the lorax, \"now listen here, dad! all you do is yap-yap and say, \\'bad! bad! bad! bad!\\' well, i have my rights, sir, and i\\'m telling you i intend to go on doing just what i do! and, for your information, you lorax, i\\'m figgering on biggering and biggering andbiggering and biggering, turning more truffula trees into thneeds which everyone, everyone, everyone needs!\" and at that very moment, we heard a loud whack! from outside in the fields came a sickening smack of an axe on a tree. then we heard the tree fall. the very last truffula tree of them all!    no more trees. no more thneeds. no more work to be done. so, in no time, my uncles and aunts, every one, all waved me good-bye. they jumped into my cars and drove away under the smoke-smuggered stars. now all that was left \\'neath the bad smelling-sky was my big empty factory... the lorax... and i. the lorax said nothing. just gave me a glance... just gave me a very sad, sad backward glance... as he lifted himself by the seat of his pants. and i\\'ll never forget the grim look on his face when he heisted himself and took leave of this place, through a hole in the smog, without leaving a trace. and all that the lorax left here in this mess was a small pile of rocks, with one word... \"unless.\" whatever that meant, well, i just couldn\\'t guess.  that was long, long ago. but each day since that day i\\'ve sat here and worried and worried away. through the years, while my buildings have fallen apart, i\\'ve worried about it with all of my heart. \"but now,\" says the once-ler, \"now that you\\'re here, the word of the lorax seems perfectly clear. unless someone like you cares a whole awful lot, nothing is going to get better. it\\'s not. \"so... catch!\" calls the once-ler. he lets something fall. \"it\\'s a truffula seed. it\\'s the last one of all! you\\'re in charge of the last of the truffula seeds. and truffula trees are what everyone needs. plant a new truffula.treat it with care. give it clean water. and feed it fresh air. grow a forest. protect it from axes that hack. then the lorax and all of his friends may come back.\"the time has come.  the time has come. the time is now.  just go. go. go! i don\\'t care how.  you can go by foot. you can go by cow. marvin k. mooney, will you please go now!  you can go on skates. you can go on skis. you can go in a hat.  but please go. please!  i don\\'t care.  you can go by bike.  you can go on a zike-bike if you like. if you like you can go in an old blue shoe.  just go, go, go! please do, do, do!  marvin k. mooney,  i don\\'t care how.  marvin k. mooney,  will you please go now!  you can go on stilts. you can go by fish. you can go in a crunk-car if you wish.  if you wish you may go by lion\\'s tail. or stamp yourself and go by mail. marvin k. mooney! don\\'t you know the time has come to go, go, go!  get on your way! please, marvin k.! you might like going  in a zumble-zay.  you can go by balloon... ... or broomstick. or you can go by camel in a bureau drawer.  you can go by bumble-boat... ... or jet. i don\\'t care how you go.  get yourself a ga-zoom. you can go with a....... boom! marvin, marvin, marvin! will you leave this room!  marvin k. mooney! i don\\'t care how. marvin k. mooney! will you please go now!  i said go and go i meant... the time had come. so... marvin went.did you ever have the feeling there\\'s a wasket in your basket? or a nureau in your bureau? or a woset in your closet? sometimes i feel quite certain there\\'s a jertain in the curtain. sometimes i have the feeling there\\'s a zlock behind the clock. and that zelf up on that shelf! i have talked to him myself. that\\'s the kind of house i live in. there\\'s a nink in the sink. and a zamp in the lamp. and they\\'re rather nice...i think. some of them are very friendly. like the yot in the pot. but that yottle in the bottle, some are friendly. some are not. i like the zable on the table. and the ghair under the chair. but that bofa on the sofa...well, i wish he wasn\\'t there. all those nupboards in the cupboards, they\\'re good fun to have about. but that noothgrush on my toothbrush... him i could do without! the only one i\\'m really scared of is that vug under the rug. and that quimney up the chimney... i don\\'t like him. not at all. and it makes me sort of nervous when the zall scoots down the hall. but the yeps on the steps  they\\'re great fun to have around. and so are the many, many friends that i have found. like the tellar and the nellar and the gellar and the dellar and the bellar and the wellar and the zellar in the cellar.   and the geeling on the ceiling...  ...and the zower in my shower...  and the zillow on my pillow. i don\\'t care if you believe it. that\\'s the kind of house i live in. and i hope we never leave it.up pup pup is up. cup pup pup in cup. pup cup cup on pup. mouse house mouse on house. house mouse house on mouse. all tall we all are tall. all small we all are small. all ball we all play ball. ball wall up on a wall. all fall fall off the wall. day play we play all day. night fight we fight all night.he me he is after me. him jim jim is after him. see bee we see a bee. see bee three now we see three. three tree three fish in a tree. fish in a tree? how can that be? red red they call me red. red bed i am in bed. red ned ted and ed in bed pat pat they call him pat. pat sat pat sat on hat. pat cat pat sat on cat. pat bat pat sat on bat. no pat no don\\'t sit on that. sad dad bad had dad is sad. very, very sad. he had a bad day. what a day dad had! thing thing what is that thing?thing sing that thing can sing! song long a long, long song. good-by, thing. you sing too long. walk walk we like to walk. walk talk we like to talk. hop pop we like to hop. we like to hop on top of pop. stop you must not hop on pop. mr. brown mrs. brown mr. brown upside down. pup up. brown down. pup is down. where is brown? where is brown? there is brown! mr. brown is out of town. back black brown came back.brown came back with mr. black. snack snack eat a snack. eat a snack with brown and black. jump bump he jumped. he bumped. fast past he went past fast. went tent sent he went into the tent. i sent him out of the tent. wet get two dogs get wet. help yelp they yelp for help. hill will will went up hill. will hill still will is up hill still. father mother sister brother that one is my other brother. my brothers read a little bit. little words like if and it. my father can read big words, too. like constantinople and timbuktu say say what does this say? seehemewepatpup pop hethreetreebee tophopstop ask me tomorrow but not today.every who down in whoville liked christmas a lot... but the grinch,who lived just north of whoville, did not! the grinch hated christmas! the whole christmas season! now, please don\\'t ask why. no one quite knows the reason. it could be his head wasn\\'t screwed on just right. it could be, perhaps, that his shoes were too tight. but i think that the most likely reason of all, may have been that his heart was two sizes too small. whatever the reason, his heart or his shoes, he stood there on christmas eve, hating the whos, staring down from his cave with a sour, grinchy frown, at the warm lighted windows below in their town. for he knew every who down in whoville beneath, was busy now, hanging a mistletoe wreath. \"and they\\'re hanging their stockings!\" he snarled with a sneer, \"tomorrow is christmas! it\\'s practically here!\" then he growled, with his grinch fingers nervously drumming, \"i must find some way to stop christmas from coming!\" for tomorrow, he knew, all the who girls and boys, would wake bright and early. they\\'d rush for their toys! and then! oh, the noise! oh, the noise! noise! noise! noise! that\\'s one thing he hated! the noise! noise! noise! noise! then the whos, young and old, would sit down to a feast. and they\\'d feast! and they\\'d feast! and they\\'d feast! feast! feast! feast! they would feast on who-pudding, and rare who-roast beast. which was something the grinch couldn\\'t stand in the least! and then they\\'d do something he liked least of all! every who down in whoville, the tall and the small, would stand close together, with christmas bells ringing. they\\'d stand hand-in-hand. and the whos would start singing! they\\'d sing! and they\\'d sing! and they\\'d sing! sing! sing! sing! and the more the grinch thought of this who christmassing, the more the grinch thought, \"i must stop this whole thing!\" \"why, for fifty-three years i\\'ve put up with it now!\" \"i must stop this christmas from coming! but how?\" then he got an idea! an awful idea! the grinch got a wonderful, awful idea! \"i know just what to do!\" the grinch laughed in his throat. and he made a quick santy claus hat and a coat. and he chuckled, and clucked, \"what a great grinchy trick!\" \"with this coat and this hat, i look just like saint nick!\" \"all i need is a reindeer...\" the grinch looked around. but, since reindeer are scarce, there was none to be found. did that stop the old grinch? no! the grinch simply said, \"if i can\\'t find a reindeer, i\\'ll make one instead!\" so he called his dog, max. then he took some red thread, and he tied a big horn on the top of his head. then he loaded some bags and some old empty sacks, on a ramshackle sleigh and he hitched up old max. then the grinch said, \"giddap!\" and the sleigh started down, toward the homes where the whos lay asnooze in their town. all their windows were dark. quiet snow filled the air. all the whos were all dreaming sweet dreams without care. when he came to the first little house on the square. \"this is stop number one,\" the old grinchy claus hissed, and he climbed to the roof, empty bags in his fist. then he slid down the chimney. a rather tight pinch. but, if santa could do it, then so could the grinch. he got stuck only once, for a moment or two. then he stuck his head out of the fireplace flue. where the little who stockings all hung in a row. \"these stockings,\" he grinned, \"are the first things to go!\" then he slithered and slunk, with a smile most unpleasant, around the whole room, and he took every present! pop guns! and bicycles! roller skates! drums! checkerboards! tricycles! popcorn! and plums! and he stuffed them in bags. then the grinch, very nimbly, stuffed all the bags, one by one, up the chimney! then he slunk to the icebox. he took the whos\\' feast! he took the who-pudding! he took the roast beast! he cleaned out that icebox as quick as a flash. why, that grinch even took their last can of who-hash! then he stuffed all the food up the chimney with glee. \"and now!\" grinned the grinch, \"i will stuff up the tree!\" and the grinch grabbed the tree, and he started to shove, when he heard a small sound like the coo of a dove. he turned around fast, and he saw a small who! little cindy-lou who, who was not more than two. the grinch had been caught by this tiny who daughter, who\\'d got out of bed for a cup of cold water. she stared at the grinch and said, \"santy claus, why,\\xef\\xbf\\xbd \"why are you taking our christmas tree? why?\" but, you know, that old grinch was so smart and so slick, he thought up a lie, and he thought it up quick! \"why, my sweet little tot,\" the fake santy claus lied, \"there\\'s a light on this tree that won\\'t light on one side.\" \"so i\\'m taking it home to my workshop, my dear.\" \"i\\'ll fix it up there. then i\\'ll bring it back here.\" and his fib fooled the child. then he patted her head, and he got her a drink and he sent her to bed. and when cindylou who went to bed with her cup, he went to the chimney and stuffed the tree up! then the last thing he took was the log for their fire! then he went up the chimney, himself, the old liar. on their walls he left nothing but hooks and some wire. and the one speck of food that he left in the house, was a crumb that was even too small for a mouse. then he did the same thing to the other whos\\' houses leaving crumbs much too small for the other whos\\' mouses! it was quarter past dawn... all the whos, still a-bed, all the whos, still asnooze when he packed up his sled, packed it up with their presents! the ribbons! the wrappings! the tags! and the tinsel! the trimmings! the trappings! three thousand feet up! up the side of mt. crumpit, he rode with his load to the tiptop to dump it! \"poohpooh to the whos!\" he was grinchishly humming. \"they\\'re finding out now that no christmas is coming!\" \"they\\'re just waking up! i know just what they\\'ll do!\" \"their mouths will hang open a minute or two, then the whos down in whoville will all cry boohoo!\" \"that\\'s a noise,\" grinned the grinch, \"that i simply must hear!\" so he paused. and the grinch put his hand to his ear. and he did hear a sound rising over the snow. it started in low. then it started to grow. but the sound wasn\\'t sad! why, this sound sounded merry! it couldn\\'t be so! but it was merry! very! he stared down at whoville! the grinch popped his eyes! then he shook! what he saw was a shocking surprise! every who down in whoville, the tall and the small, was singing! without any presents at all! he hadn\\'t stopped christmas from coming! it came! somehow or other, it came just the same! and the grinch, with his grinch-feet ice-cold in the snow, stood puzzling and puzzling: \"how could it be so?\" \"it came with out ribbons! it came without tags!\" \"it came without packages, boxes or bags!\" and he puzzled three hours, till his puzzler was sore. then the grinch thought of something he hadn\\'t before! \"maybe christmas,\" he thought, \"doesn\\'t come from a store.\" \"maybe christmas...perhaps...means a little bit more!\" and what happened then? well...in whoville they say, that the grinch\\'s small heart grew three sizes that day! and the minute his heart didn\\'t feel quite so tight, he whizzed with his load through the bright morning light, and he brought back the toys! and the food for the feast! and he, he himself! the grinch carved the roast beast!one fish, two fish, red fish, blue fish, black fish, blue fish, old fish, new fish. this one has a littlecar. this one has a little star. say! what a lot of fish there are. yes. some are red, and some are blue. some are old and some are new. some are sad, and some are glad, and some are very, very bad. why are they sad and glad and bad? i do not know, go ask your dad. some are thin, and some are fat. the fat one has a yellow hat. from there to here, from here to there, funny things are everywhere. here are some who like to run. they run for fun in the hot, hot sun. oh me! oh my! oh me! oh my! what a lot of funny things go by. some have two feet and some have four. some have six feet and some have more. where do they come from? i can\\'t say. but i bet they have come a long, long way. we see them come, we see them go. some are fast. some are slow. some are high. some are low. not one of them is like another. don\\'t ask us why, go ask your mother.  say! look at his fingers! one, two, three... how many fingers do i see? one, two, three, four, five, six, seven, eight, nine, ten. he has eleven! eleven! this is something new. i wish i had eleven too!  bump! bump! bump! did you ever ride a wump? we have a wump with just one hump. but we know a man called mr. gump. mr. gump has a seven hump wump. so... if you like to go bump! bump! just jump on the hump of the wump of gump  who am i? my name is ned i do not like my little bed. this is no good. this is not right. my feet stick out of bed all night. and when i pull them in, oh, dear! my head sticks out of bed up here!  we like our bike. it is made for three. our mike sits up in back, you see. we like our mike, and this is why: mike does all the work when the hills get high.  hello there, ned. how do you do? tell me, tell me what is new? how are things in your little bed? what is new? please tell me ned. i do not like this bed at all. a lot of things have come to call. a cow, a dog, a cat, a mouse. oh! what a bed! oh! what a house!  oh dear, oh dear! i cannot hear. will you please come over near? will you please look in my ear? there must be something there, i fear. say look! a bird was in your ear. but he is out. so have no fear. again your ear can hear, my dear.  my hat is old, my teeth are gold. i have a bird i like to hold. my shoe is off, my foot is cold. my shoe is off, my foot is cold. i have a bird i like to hold. my hat is old, my teeth are gold. and now my story is all told.  we took a look. we saw a nook. on his head he had a hook. on his hook he had a book. on his book was \"how to cook\" we saw him sit and try to cook but a nook can\\'t read, so a nook can\\'t cook. so... what good to a nook is a hook cook book?  the moon was out and we saw some sheep. we saw some sheep take a walk in their sleep. by the light of the moon, by the light of a star; they walked all night from near to far. i would never walk. i would take a car.  i do not like this one so well. all he does is yell, yell, yell. i will not have this one about. when he comes in i put him out. this one is quiet as a mouse. i like to have him in the house.  at our house we open cans. we have to open many cans. and that is why we have a zans. a zans for cans is very good. have you a zans for cans? you should.  i like to box. how i like to box. so every day i box a gox. in yellow socks i box my gox. i box in yellow gox box socks.  it is fun to sing if you sing with a ying. my ying can sing like anything. i sing high and my ying sings low. and we are not too bad, you know.  this one, i think, is called a yink. he likes to wink, he likes to drink. he likes to drink, and drink, and drink. the thing he likes to drink is ink. the ink he likes to drink is pink. he likes to wink and drink pink ink. so... if you have a lot of ink, you should get a yink, i think.  hop, hop, hop! i am a yop all i like to do is hop, from finger top to finger top. i hop from left to right and then... hop, hop! i hop right back again. i like to hop all day and night. from right to left and left to right. why do i like to hop, hop, hop? i do not know. go ask your pop.  brush, brush, brush, brush comb, comb, comb, comb blue hair is fun to brush and comb. all girls who like to brush and comb, should have a pet like this at home.  who is this pet? say! he is wet. you never yet met a pet, i bet, as wet as they let this wet pet get.  did you ever fly a kite in bed? did you ever walk with ten cats on your head? did you ever milk this kind of cow? well, we can do it. we know how. if you never did, you should. these things are fun, and fun is good.  hello, hello. are you there? hello! i called you up to say hello. i said hello. can you hear me, joe? oh no, i cannot hear your call. i cannot hear your call at all. this is not good, and i know why. a mouse has cut the wire, goodbye!  from near to far, from here to there, funny things are everywhere. these yellow pets are called the zeds. they have one hair upon their heads. their hair grows fast. so fast they say, they need a haircut every day.  who am i? my name is ish on my hand i have a dish. i have this dish to help me wish. when i wish to make a wish i wave my hand with a big swish swish. then i say, \"i wish for fish!\" and i get fish right on my dish. so... if you wish to make a wish, you may swish for fish with my ish wish dish.  at our house we play out back. we play a game called ring the gack. would you like to play this game? come down! we have the only gack in town.  look what we found in the park in the dark. we will take him home, we will call him clark. he will live at our house, he will grow and grow. will our mother like this? we don\\'t know.  and now, good night. it is time to sleep so we will sleep with our pet zeep. today is gone. today was fun. tomorrow is another one. every day, from here to there. funny things are everywhere.oh, the wonderful things mr. brown can do! he can go like a cow. he can go moo moo. mr. brown can do it. how about you?  he can go like a bee. mr. brown can buzz. how about you? can you go buzz buzz.  he can go like a cork... pop pop pop.  he can go like house feet. klopp klopp klopp.  he can go eek eek like a squeaky shoe.  he can go like a rooter... cock-a-doodle-doo.  he can go like an owl... hoo hoo.  eek eek eek eek cock-a-doodle-doo hoo hoo hoo hoo how about you?  he can go like the rain... dibble dibble dibble dopp. dibble dibble dibble dibble. dopp dopp dopp.  he can go like a train. choo choo choo choo.  oh, the wonderful things mr. brown can do! moo moo buzz buzz pop pop pop eek eek hoo hoo klopp klopp klopp dibble dibble dopp dopp cock-a-doodle-doo mr. brown can do it. how about you?  mr. brown can whisper whisper. ...very soft very high... ...like the soft, soft whisper of a butterfly. maybe you can, too. i think you ought to try.  he can go like a horn... blurp blurp. ...like a big cat drinking. slurp slurp. he can go like a clock. he can tick. he can tock. he can go like a hand on a door... knock knock. tick tock. tick tock. knock knock knock.  oh, the wonderful things mr. brown can do! blurp blurp slurp slurp cock-a-doodle-doo knock knock knock and hoo hoo hoo  he and even sizzle sizzle. he can do that, too, like an egg in a frying pan. how about you?  mr. brown is smart, as smart as they come! he can do a hippopotamus chewing gum! grum grum. grum grum. grum grum grum.  mr. brown is so smart he can even do this pip! he can even make a noise like a goldfish kiss!  boom boom boom. mr. brown is a wonder! boom boom boom! mr. brown makes thunder! he makes lighnting! splatt splatt splatt! and it\\'s very, very hard to make a noise like that.  oh, the wonderful things mr. brown can do! moo moo buzz buzz pop pop pop eek eek hoo hoo klopp klopp klopp dibble dibble dopp dopp cock-a-doodle-doo grum grum grum grum choo choo choo boom boom splatt splatt tick tick tock sizzle sizzle blurp blurp knock knock knock a slurp and a whisper and a fish kiss, too. pip! mr. brown can do it. how about you?fox socks box knox  knox in box. fox in socks.  knox on fox in socks in box.  socks on knox and knox in box.  fox in socks on box on knox.  chicks with bricks come. chicks with blocks come. chicks with bricks and blocks and clocks come.  look, sir.  look, sir.  mr. knox, sir. let\\'s do tricks with bricks and blocks, sir. let\\'s do tricks with chicks and clocks, sir.  first, i\\'ll make a quick trick brick stack. then i\\'ll make a quick trick block stack.  you can make a quick trick chick stack. you can make a quick trick clock stack.  and here\\'s a new trick, mr. knox.... socks on chicks and chicks on fox. fox on clocks on bricks and blocks. bricks and blocks on knox on box.  now we come to ticks and tocks, sir. try to say this mr. knox, sir....  clocks on fox tick. clocks on knox tock. six sick bricks tick. six sick chicks tock.  please, sir.  i don\\'t like this trick, sir. my tongue isn\\'t quick or slick, sir. i get all those ticks and clocks, sir,  mixed up with the chicks and tocks, sir. i can\\'t do it, mr. fox, sir.  i\\'m so sorry, mr. knox, sir.  here\\'s an easy game to play. here\\'s an easy thing to say....  new socks. two socks. whose socks? sue\\'s socks.  who sews whose socks? sue sews sue\\'s socks.  who sees who sew whose new socks, sir? you see sue sew sue\\'s new socks, sir.  that\\'s not easy, mr. fox, sir.  who comes? ... crow comes. slow joe crow comes.  who sews crow\\'s clothes? sue sews crow\\'s clothes. slow joe crow sews whose clothes? sue\\'s clothes.  sue sews socks of fox in socks now.  slow joe crow sews knox in box now.  sue sews rose on slow joe crow\\'s clothes. fox sews hose on slow joe crow\\'s nose.  hose goes. rose grows. nose hose goes some. crow\\'s rose grows some.  mr. fox! i hate this game, sir. this game makes my tongue quite lame, sir.  mr. knox, sir, what a shame, sir.  we\\'ll find something new to do now. here is lots of new blue goo now. new goo.  blue goo. gooey.  gooey. blue goo.  new goo. gluey. gluey.  gooey goo for chewy chewing! that\\'s what that goo-goose is doing. do you choose to chew goo, too, sir? if, sir, you, sir, choose to chew, sir,  with the goo-goose, chew, sir. do, sir.  mr. fox, sir,  i won\\'t do it.   i can\\'t say.   i won\\'t chew it.  very well, sir. step this way. we\\'ll find another game to play.  bim comes. ben comes. bim brings ben broom. ben brings bim broom.  ben bends bim\\'s broom. bim bends ben\\'s broom. bim\\'s bends. ben\\'s bends. ben\\'s bent broom breaks. bim\\'s bent broom breaks.  ben\\'s band.  bim\\'s band. big bands.  pig bands.  bim and ben lead bands with brooms. ben\\'s band bangs and bim\\'s band booms.  pig band!  boom band! big band!  broom band! my poor mouth can\\'t say that.  no, sir. my poor mouth is much too slow, sir.  well then... bring your mouth this way. i\\'ll find it something it can say.  luke luck likes lakes. luke\\'s duck likes lakes. luke luck licks lakes. luck\\'s duck licks lakes.  duck takes licks in lakes luke luck likes. luke luck takes licks in lakes duck likes.  i can\\'t blab such blibber blubber! my tongue isn\\'t make of rubber.  mr. knox.  now come now.  come now. you don\\'t have to be so dumb now....  try to say this, mr. knox, please....  through three cheese trees three free fleas flew. while these fleas flew, freezy breeze blew. freezy breeze made these three trees freeze. freezy trees made these trees\\' cheese freeze. that\\'s what made these three free fleas sneeze.  stop it!  stop it! that\\'s enough, sir. i can\\'t say such silly stuff, sir.  very well, then, mr. knox, sir.  let\\'s have a little talk about tweetle beetles....  what do you know about tweetle beetles?  well...  when tweetle beetles fight,  it\\'s called a tweetle beetle battle.  and when they battle in a puddle,  it\\'s a tweetle beetle puddle battle.  and when tweetle beetles battle with paddles in a puddle,  they call it a tweetle beetle puddle paddle battle.  and...  when beetles battle beetles in a puddle paddle battle  and the beetle battle puddle is a puddle in a bottle... ...they call this a tweetle beetle bottle puddle paddle battle muddle.  and...  when beetles fight these battles in a bottle with their paddles  and the bottle\\'s on a poodle and the poodle\\'s eating noodles... ...they call this a muddle puddle tweetle poodle beetle noodle  bottle paddle battle.  and...  now wait a minute, mr. socks fox!  when a fox is in the bottle where the tweetle beetles battle  with their paddles in a puddle on a noodle-eating poodle,  this is what they call...  ...a tweetle beetle noodle poodle bottled paddled  muddled duddled fuddled wuddled fox in socks, sir!  fox in socks, our game is done, sir. thank you for a lot of fun, sir.i am sam  i am sam sam i am  that sam-i-am that sam-i-am! i do not like that sam-i-am  do you like green eggs and ham  i do not like them, sam-i-am. i do not like green eggs and ham.  would you like them here or there?  i would not like them here or there. i would not like them anywhere. i do not like green eggs and ham. i do not like them, sam-i-am  would you like them in a house? would you like them with a mouse?  i do not like them in a house. i do not like them with a mouse. i do not like them here or there. i do not like them anywhere. i do not like green eggs and ham. i do not like them, sam-i-am.   would you eat them in a box? would you eat them with a fox?  not in a box. not with a fox. not in a house. not with a mouse. i would not eat them here or there. i would not eat them anywhere. i would not eat green eggs and ham. i do not like them, sam-i-am.  would you? could you? in a car? eat them! eat them! here they are.  i would not , could not, in a car  you may like them. you will see. you may like them in a tree? d not in a tree. i would not, could not in a tree. not in a car! you let me be.  i do not like them in a box. i do not like them with a fox i do not like them in a house i do mot like them with a mouse i do not like them here or there. i do not like them anywhere. i do not like green eggs and ham. i do not like them, sam-i-am.  a train! a train! a train! a train! could you, would you on a train?  not on a train! not in a tree! not in a car! sam! let me be! i would not, could not, in a box. i could not, would not, with a fox. i will not eat them with a mouse i will not eat them in a house. i will not eat them here or there. i will not eat them anywhere. i do not like them, sam-i-am.   say! in the dark? here in the dark! would you, could you, in the dark?  i would not, could not, in the dark.  would you, could you, in the rain?  i would not, could not, in the rain. not in the dark. not on a train, not in a car, not in a tree. i do not like them, sam, you see. not in a house. not in a box. not with a mouse. not with a fox. i will not eat them here or there. i do not like them anywhere!  you do not like green eggs and ham?  i do not like them, sam-i-am.  could you, would you, with a goat?  i would not, could not. with a goat!  would you, could you, on a boat?  i could not, would not, on a boat. i will not, will not, with a goat. i will not eat them in the rain. i will not eat them on a train. not in the dark! not in a tree! not in a car! you let me be! i do not like them in a box. i do not like them with a fox. i will not eat them in a house. i do not like them with a mouse. i do not like them here or there. i do not like them anywhere!  i do not like green eggs and ham!  i do not like them, sam-i-am.  you do not like them. so you say. try them! try them! and you may. try them and you may i say.  sam! if you will let me be, i will try them. you will see.  say! i like green eggs and ham! i do!! i like them, sam-i-am! and i would eat them in a boat! and i would eat them with a goat... and i will eat them in the rain. and in the dark. and on a train. and in a car. and in a tree. they are so good so good you see!  so i will eat them in a box. and i will eat them with a fox. and i will eat them in a house. and i will eat them with a mouse. and i will eat them here and there. say! i will eat them anywhere!  i do so like green eggs and ham! thank you! thank you, sam-i-am'"
      ]
     },
     "execution_count": 44,
     "metadata": {},
     "output_type": "execute_result"
    }
   ],
   "source": [
    "total"
   ]
  },
  {
   "cell_type": "code",
   "execution_count": 45,
   "metadata": {},
   "outputs": [
    {
     "data": {
      "text/plain": [
       "81073"
      ]
     },
     "execution_count": 45,
     "metadata": {},
     "output_type": "execute_result"
    }
   ],
   "source": [
    "len(total)"
   ]
  },
  {
   "cell_type": "markdown",
   "metadata": {
    "collapsed": true
   },
   "source": [
    "## 2. Create Char Dictionary"
   ]
  },
  {
   "cell_type": "code",
   "execution_count": 6,
   "metadata": {
    "collapsed": true
   },
   "outputs": [],
   "source": [
    "def create_dict(texts):\n",
    "    wl = {}\n",
    "    for char in texts:\n",
    "        if char not in wl:\n",
    "            wl[char] = 1\n",
    "        else:\n",
    "            wl[char] += 1\n",
    "    return wl"
   ]
  },
  {
   "cell_type": "code",
   "execution_count": 7,
   "metadata": {
    "collapsed": true
   },
   "outputs": [],
   "source": [
    "import operator\n",
    "d = create_dict(total)\n",
    "sorted_d = sorted(d.items(), key=lambda x: x[1], reverse=True)"
   ]
  },
  {
   "cell_type": "code",
   "execution_count": 8,
   "metadata": {},
   "outputs": [
    {
     "name": "stdout",
     "output_type": "stream",
     "text": [
      "Dictionary Size: 46\n"
     ]
    }
   ],
   "source": [
    "print('Dictionary Size: %d' % len(sorted_d))"
   ]
  },
  {
   "cell_type": "code",
   "execution_count": 9,
   "metadata": {},
   "outputs": [
    {
     "name": "stdout",
     "output_type": "stream",
     "text": [
      "Dictionary:\n",
      " [(' ', 7706), ('e', 2920), ('t', 2509), ('o', 2487), ('a', 2039), ('h', 1949), ('i', 1825), ('n', 1737), ('s', 1608), ('l', 1304), ('r', 1105), ('d', 1089), ('w', 898), ('u', 877), ('.', 822), ('m', 694), ('y', 644), ('c', 585), ('g', 532), ('k', 523), ('b', 447), (',', 429), ('p', 415), ('f', 414), ('!', 328), ('\"', 184), (\"'\", 173), ('v', 126), ('x', 90), ('?', 84), ('-', 61), ('z', 35), ('j', 30), ('q', 21), (':', 2), ('\\xef', 1), (')', 1), ('(', 1), ('/', 1), ('3', 1), ('4', 1), ('9', 1), ('8', 1), (';', 1), ('\\xbf', 1), ('\\xbd', 1)]\n"
     ]
    }
   ],
   "source": [
    "print('Dictionary:\\n %s' % sorted_d)"
   ]
  },
  {
   "cell_type": "markdown",
   "metadata": {},
   "source": [
    "## 3. Vectorize on Char Dict"
   ]
  },
  {
   "cell_type": "code",
   "execution_count": 10,
   "metadata": {
    "collapsed": true
   },
   "outputs": [],
   "source": [
    "SEQ_LENGTH = 100"
   ]
  },
  {
   "cell_type": "code",
   "execution_count": 11,
   "metadata": {
    "collapsed": true
   },
   "outputs": [],
   "source": [
    "characters = []\n",
    "for pair in sorted_d:\n",
    "    characters.append(pair[0])"
   ]
  },
  {
   "cell_type": "code",
   "execution_count": 12,
   "metadata": {
    "collapsed": true
   },
   "outputs": [],
   "source": [
    "n_to_char = {n:char for n, char in enumerate(characters)}\n",
    "char_to_n = {char:n for n, char in enumerate(characters)}"
   ]
  },
  {
   "cell_type": "code",
   "execution_count": 13,
   "metadata": {},
   "outputs": [
    {
     "name": "stderr",
     "output_type": "stream",
     "text": [
      "Using TensorFlow backend.\n"
     ]
    }
   ],
   "source": [
    "import numpy as np\n",
    "from keras.utils import np_utils\n",
    "X = []\n",
    "Y = []\n",
    "length = len(total)\n",
    "for i in range(0, length - SEQ_LENGTH, 1):\n",
    "    sequence = total[i:i + SEQ_LENGTH]\n",
    "    label = total[i + SEQ_LENGTH]\n",
    "    X.append([char_to_n[char] for char in sequence])\n",
    "    Y.append(char_to_n[label])"
   ]
  },
  {
   "cell_type": "code",
   "execution_count": 14,
   "metadata": {
    "collapsed": true
   },
   "outputs": [],
   "source": [
    "X_mod = np.reshape(X, (len(X), SEQ_LENGTH, 1))\n",
    "X_mod = X_mod / float(len(characters))\n",
    "Y_mod = np_utils.to_categorical(Y)"
   ]
  },
  {
   "cell_type": "code",
   "execution_count": 15,
   "metadata": {},
   "outputs": [
    {
     "data": {
      "text/plain": [
       "(36603, 100, 1)"
      ]
     },
     "execution_count": 15,
     "metadata": {},
     "output_type": "execute_result"
    }
   ],
   "source": [
    "X_mod.shape"
   ]
  },
  {
   "cell_type": "markdown",
   "metadata": {},
   "source": [
    "## 4. LSTM Model"
   ]
  },
  {
   "cell_type": "code",
   "execution_count": 16,
   "metadata": {
    "collapsed": true
   },
   "outputs": [],
   "source": [
    "from keras.models import Sequential\n",
    "from keras.layers import Dense\n",
    "from keras.layers import Dropout\n",
    "from keras.layers import LSTM\n",
    "from keras.utils import np_utils"
   ]
  },
  {
   "cell_type": "code",
   "execution_count": 32,
   "metadata": {},
   "outputs": [],
   "source": [
    "model = Sequential()\n",
    "model.add(LSTM(700, input_shape=(X_mod.shape[1], X_mod.shape[2]), return_sequences=True))\n",
    "model.add(Dropout(0.2))\n",
    "model.add(LSTM(700, return_sequences=True))\n",
    "model.add(Dropout(0.2))\n",
    "model.add(LSTM(700))\n",
    "model.add(Dropout(0.2))\n",
    "model.add(Dense(Y_mod.shape[1], activation = 'softmax'))\n",
    "model.compile(loss='categorical_crossentropy', optimizer='adam')"
   ]
  },
  {
   "cell_type": "markdown",
   "metadata": {},
   "source": [
    "2 LSTM layers, 700 hidden states, dropout ratio = 0.2"
   ]
  },
  {
   "cell_type": "code",
   "execution_count": 33,
   "metadata": {},
   "outputs": [
    {
     "name": "stdout",
     "output_type": "stream",
     "text": [
      "Epoch 1/10\n",
      "36603/36603 [==============================] - 6828s - loss: 3.0143  \n",
      "Epoch 2/10\n",
      "36603/36603 [==============================] - 6056s - loss: 2.8440  \n",
      "Epoch 3/10\n",
      "36603/36603 [==============================] - 6096s - loss: 2.6030  \n",
      "Epoch 4/10\n",
      "36603/36603 [==============================] - 5984s - loss: 2.3889  \n",
      "Epoch 5/10\n",
      "36603/36603 [==============================] - 6082s - loss: 2.1871  \n",
      "Epoch 6/10\n",
      "36603/36603 [==============================] - 6262s - loss: 1.9937  \n",
      "Epoch 7/10\n",
      "36603/36603 [==============================] - 6305s - loss: 1.8279  \n",
      "Epoch 8/10\n",
      "36603/36603 [==============================] - 6207s - loss: 1.6555  \n",
      "Epoch 9/10\n",
      "36603/36603 [==============================] - 6255s - loss: 1.5076  \n",
      "Epoch 10/10\n",
      "36603/36603 [==============================] - 6104s - loss: 1.3584  \n"
     ]
    }
   ],
   "source": [
    "model.fit(X_mod, Y_mod, epochs=10, batch_size=100)\n",
    "model.save_weights('models/dr-seuss-700-0.2-700-0.2-700-0.2-10-epochs.h5')"
   ]
  },
  {
   "cell_type": "markdown",
   "metadata": {},
   "source": [
    "1 epoch, batch size of 100"
   ]
  },
  {
   "cell_type": "code",
   "execution_count": 34,
   "metadata": {
    "collapsed": true
   },
   "outputs": [],
   "source": [
    "model.load_weights('models/dr-seuss-700-0.2-700-0.2-700-0.2-10-epochs.h5')"
   ]
  },
  {
   "cell_type": "markdown",
   "metadata": {},
   "source": [
    "## 5. Generate Text"
   ]
  },
  {
   "cell_type": "code",
   "execution_count": 35,
   "metadata": {
    "collapsed": true
   },
   "outputs": [],
   "source": [
    "string_mapped = list(X[0])\n",
    "full_string = [n_to_char[value] for value in string_mapped]\n",
    "# Number of characters in generated passage\n",
    "TEXT_LENGTH = 1000\n",
    "for i in range(TEXT_LENGTH):\n",
    "    x = np.reshape(string_mapped,(1,len(string_mapped), 1))\n",
    "    x = x / float(len(characters))\n",
    "    \n",
    "    pred_index = np.argmax(model.predict(x, verbose=0))\n",
    "    seq = [n_to_char[value] for value in string_mapped]\n",
    "    full_string.append(n_to_char[pred_index])\n",
    "    \n",
    "    string_mapped.append(pred_index)\n",
    "    string_mapped = string_mapped[1:len(string_mapped)]"
   ]
  },
  {
   "cell_type": "code",
   "execution_count": 36,
   "metadata": {},
   "outputs": [
    {
     "name": "stdout",
     "output_type": "stream",
     "text": [
      "congratulations! today is your day. you're off to great places! you're off and away!  you have brain\n"
     ]
    }
   ],
   "source": [
    "#combining text\n",
    "txt=\"\"\n",
    "for char in full_string:\n",
    "    txt = txt+char\n",
    "print(txt[:SEQ_LENGTH])"
   ]
  },
  {
   "cell_type": "code",
   "execution_count": 37,
   "metadata": {},
   "outputs": [
    {
     "name": "stdout",
     "output_type": "stream",
     "text": [
      "congratulations! today is your day. you're off to great places! you're off and away!  you have brains and your sige the whotle who sooc whth a sook. and he stuffed the whol, st will sot bnow what to soy.  who sow.  when your hear your hear your hear fun to brack that is not all.  when the fash in the hat.  \"uou here to there. funny thin who sowny when he hat down the whol, starl and nome where the whotle beetle beetleebuddle paddle baddle baddle baddle baddle baddle baddle baddle baddle battle buddle battle beetles beether bat sat on mat.  but them call wadl head  and when their wet three feetles battle beetles battle buddle paddle baddle baddle baddle baddle baddle baddle baddle battle buddle baddle batw when the whow, st can not know what to soy.  who sow.  when your hear your whth the whol, st will sot like thit! and i do not like them, sam-i-am.   would you like them. sot one little bit!\"  \"now hove this one and thing two on the weatr whth a sook. and he stuffed the whol, and the ghinc and the ghimney wp the grinch coue the grinch couled the whos, st wike to hop of his head wou w\n"
     ]
    }
   ],
   "source": [
    "print(txt)"
   ]
  },
  {
   "cell_type": "code",
   "execution_count": null,
   "metadata": {
    "collapsed": true
   },
   "outputs": [],
   "source": []
  }
 ],
 "metadata": {
  "kernelspec": {
   "display_name": "Python 2",
   "language": "python",
   "name": "python2"
  },
  "language_info": {
   "codemirror_mode": {
    "name": "ipython",
    "version": 2
   },
   "file_extension": ".py",
   "mimetype": "text/x-python",
   "name": "python",
   "nbconvert_exporter": "python",
   "pygments_lexer": "ipython2",
   "version": "2.7.13"
  }
 },
 "nbformat": 4,
 "nbformat_minor": 2
}
