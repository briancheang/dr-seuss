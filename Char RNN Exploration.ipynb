{
 "cells": [
  {
   "cell_type": "markdown",
   "metadata": {},
   "source": [
    "# Char RNN Exploration\n",
    "***"
   ]
  },
  {
   "cell_type": "markdown",
   "metadata": {},
   "source": [
    "## 1. Import Text Data"
   ]
  },
  {
   "cell_type": "code",
   "execution_count": 1,
   "metadata": {},
   "outputs": [],
   "source": [
    "total = \"\"\n",
    "data = \"\""
   ]
  },
  {
   "cell_type": "code",
   "execution_count": 2,
   "metadata": {},
   "outputs": [],
   "source": [
    "import os\n",
    "directory = \"texts/individual/\"\n",
    "files = []\n",
    "for filename in os.listdir(directory):\n",
    "    if filename.endswith(\".txt\"):\n",
    "        with open(directory+filename, \"r\") as myfile:\n",
    "            data = myfile.read().replace('\\n', ' ')\n",
    "        files.append(filename)\n",
    "    total = total + data"
   ]
  },
  {
   "cell_type": "code",
   "execution_count": 3,
   "metadata": {},
   "outputs": [],
   "source": [
    "# Replace commas\n",
    "total = total.replace(\"\\xe2\\x80\\x99\", \"\\'\")\n",
    "# Replace ...\n",
    "total = total.replace(\"\\xe2\\x80\\xa6\", \"...\")\n",
    "# Replace quotations\n",
    "total = total.replace('\\xe2\\x80\\x9c','\"')\n",
    "total = total.replace('\\xe2\\x80\\x9d','\"')\n",
    "# Replace backslashes\n",
    "total = total.replace(\"\\\\\", \"\")\n",
    "# Convert to lowercase\n",
    "total = total.lower()"
   ]
  },
  {
   "cell_type": "code",
   "execution_count": 4,
   "metadata": {},
   "outputs": [
    {
     "data": {
      "text/plain": [
       "['fox-in-socks.txt',\n",
       " 'green-eggs-and-ham.txt',\n",
       " 'happy-birthday-to-you.txt',\n",
       " 'hop-on-pop.txt',\n",
       " 'horton-hears-a-who.txt',\n",
       " 'how-the-grinch-stole-christmas.txt',\n",
       " 'if-i-ran-the-zoo.txt',\n",
       " 'marvin-k-mooney-will-you-please-go-now.txt',\n",
       " 'mr-brown-can-moo-can-you.txt',\n",
       " 'oh-the-places-youll-go.txt',\n",
       " 'one-fish-two-fish-red-fish-blue-fish.txt',\n",
       " 'ten-apples-up-on-top.txt',\n",
       " 'the-butter-battle-book.txt',\n",
       " 'the-cat-in-a-hat.txt',\n",
       " 'the-foot-book.txt',\n",
       " 'the-lorax.txt',\n",
       " 'the-sneetches.txt',\n",
       " 'wocket-in-my-pocket.txt']"
      ]
     },
     "execution_count": 4,
     "metadata": {},
     "output_type": "execute_result"
    }
   ],
   "source": [
    "files"
   ]
  },
  {
   "cell_type": "code",
   "execution_count": 5,
   "metadata": {},
   "outputs": [
    {
     "data": {
      "text/plain": [
       "79576"
      ]
     },
     "execution_count": 5,
     "metadata": {},
     "output_type": "execute_result"
    }
   ],
   "source": [
    "len(total)"
   ]
  },
  {
   "cell_type": "markdown",
   "metadata": {
    "collapsed": true
   },
   "source": [
    "## 2. Create Char Dictionary"
   ]
  },
  {
   "cell_type": "code",
   "execution_count": 6,
   "metadata": {},
   "outputs": [],
   "source": [
    "def create_dict(texts):\n",
    "    wl = {}\n",
    "    for char in texts:\n",
    "        if char not in wl:\n",
    "            wl[char] = 1\n",
    "        else:\n",
    "            wl[char] += 1\n",
    "    return wl"
   ]
  },
  {
   "cell_type": "code",
   "execution_count": 7,
   "metadata": {},
   "outputs": [],
   "source": [
    "import operator\n",
    "d = create_dict(total)\n",
    "sorted_d = sorted(d.items(), key=lambda x: x[1], reverse=True)"
   ]
  },
  {
   "cell_type": "code",
   "execution_count": 8,
   "metadata": {},
   "outputs": [
    {
     "name": "stdout",
     "output_type": "stream",
     "text": [
      "('\\xad', 10)\n",
      "(':', 10)\n",
      "('\\xc2', 10)\n",
      "('_', 10)\n",
      "('\\x80', 6)\n",
      "('\\xe2', 6)\n",
      "('\\x98', 5)\n",
      "('1', 5)\n",
      "('5', 4)\n",
      "('\\xef', 3)\n",
      "(')', 3)\n",
      "('0', 3)\n",
      "('3', 3)\n",
      "('2', 3)\n",
      "('(', 3)\n",
      "('6', 3)\n",
      "('\\xbf', 3)\n",
      "('4', 3)\n",
      "('\\xbb', 2)\n",
      "(';', 2)\n",
      "('/', 1)\n",
      "('9', 1)\n",
      "('8', 1)\n",
      "('\\xbd', 1)\n",
      "('\\xbe', 1)\n",
      "('\\xcd', 1)\n",
      "('\\x94', 1)\n"
     ]
    }
   ],
   "source": [
    "# create a string composed of irrelevant characters (used less than 50 times)\n",
    "unwanted_chars = \"\"\n",
    "for c in sorted_d:\n",
    "    if c[1] < 50:\n",
    "        print(c)\n",
    "        unwanted_chars = unwanted_chars+str(c[0])"
   ]
  },
  {
   "cell_type": "code",
   "execution_count": 9,
   "metadata": {},
   "outputs": [],
   "source": [
    "# remove irrelevant characters from text data \n",
    "total=total.translate(None,unwanted_chars)"
   ]
  },
  {
   "cell_type": "code",
   "execution_count": 10,
   "metadata": {},
   "outputs": [],
   "source": [
    "d = create_dict(total)\n",
    "sorted_d = sorted(d.items(), key=lambda x: x[1], reverse=True)"
   ]
  },
  {
   "cell_type": "code",
   "execution_count": 11,
   "metadata": {},
   "outputs": [
    {
     "name": "stdout",
     "output_type": "stream",
     "text": [
      "Dictionary Size: 34\n"
     ]
    }
   ],
   "source": [
    "print('Dictionary Size: %d' % len(sorted_d))"
   ]
  },
  {
   "cell_type": "code",
   "execution_count": 12,
   "metadata": {},
   "outputs": [
    {
     "name": "stdout",
     "output_type": "stream",
     "text": [
      "Dictionary:\n",
      " [(' ', 16037), ('e', 6664), ('o', 5335), ('t', 5265), ('a', 4504), ('h', 3973), ('n', 3686), ('i', 3671), ('s', 3402), ('r', 2852), ('l', 2819), ('d', 2325), ('u', 1963), ('w', 1708), ('.', 1648), ('m', 1489), ('y', 1487), ('c', 1330), ('g', 1330), ('p', 1102), ('f', 1078), ('k', 1044), ('b', 1016), (',', 916), ('!', 645), ('\"', 480), (\"'\", 454), ('v', 422), ('-', 240), ('x', 163), ('?', 134), ('z', 128), ('j', 105), ('q', 57)]\n"
     ]
    }
   ],
   "source": [
    "print('Dictionary:\\n %s' % sorted_d)"
   ]
  },
  {
   "cell_type": "markdown",
   "metadata": {},
   "source": [
    "## 3. Vectorize on Char Dict"
   ]
  },
  {
   "cell_type": "code",
   "execution_count": 13,
   "metadata": {},
   "outputs": [],
   "source": [
    "SEQ_LENGTH = 100"
   ]
  },
  {
   "cell_type": "code",
   "execution_count": 14,
   "metadata": {},
   "outputs": [],
   "source": [
    "characters = []\n",
    "for pair in sorted_d:\n",
    "    characters.append(pair[0])"
   ]
  },
  {
   "cell_type": "code",
   "execution_count": 15,
   "metadata": {},
   "outputs": [],
   "source": [
    "n_to_char = {n:char for n, char in enumerate(characters)}\n",
    "char_to_n = {char:n for n, char in enumerate(characters)}"
   ]
  },
  {
   "cell_type": "code",
   "execution_count": 16,
   "metadata": {},
   "outputs": [
    {
     "ename": "ImportError",
     "evalue": "No module named keras.utils",
     "output_type": "error",
     "traceback": [
      "\u001b[1;31m---------------------------------------------------------------------------\u001b[0m",
      "\u001b[1;31mImportError\u001b[0m                               Traceback (most recent call last)",
      "\u001b[1;32m<ipython-input-16-1f8842326e03>\u001b[0m in \u001b[0;36m<module>\u001b[1;34m()\u001b[0m\n\u001b[0;32m      1\u001b[0m \u001b[1;32mimport\u001b[0m \u001b[0mnumpy\u001b[0m \u001b[1;32mas\u001b[0m \u001b[0mnp\u001b[0m\u001b[1;33m\u001b[0m\u001b[0m\n\u001b[1;32m----> 2\u001b[1;33m \u001b[1;32mfrom\u001b[0m \u001b[0mkeras\u001b[0m\u001b[1;33m.\u001b[0m\u001b[0mutils\u001b[0m \u001b[1;32mimport\u001b[0m \u001b[0mnp_utils\u001b[0m\u001b[1;33m\u001b[0m\u001b[0m\n\u001b[0m\u001b[0;32m      3\u001b[0m \u001b[0mX\u001b[0m \u001b[1;33m=\u001b[0m \u001b[1;33m[\u001b[0m\u001b[1;33m]\u001b[0m\u001b[1;33m\u001b[0m\u001b[0m\n\u001b[0;32m      4\u001b[0m \u001b[0mY\u001b[0m \u001b[1;33m=\u001b[0m \u001b[1;33m[\u001b[0m\u001b[1;33m]\u001b[0m\u001b[1;33m\u001b[0m\u001b[0m\n\u001b[0;32m      5\u001b[0m \u001b[0mlength\u001b[0m \u001b[1;33m=\u001b[0m \u001b[0mlen\u001b[0m\u001b[1;33m(\u001b[0m\u001b[0mtotal\u001b[0m\u001b[1;33m)\u001b[0m\u001b[1;33m\u001b[0m\u001b[0m\n",
      "\u001b[1;31mImportError\u001b[0m: No module named keras.utils"
     ]
    }
   ],
   "source": [
    "import numpy as np\n",
    "from keras.utils import np_utils\n",
    "X = []\n",
    "Y = []\n",
    "length = len(total)\n",
    "for i in range(0, length - SEQ_LENGTH, 1):\n",
    "    sequence = total[i:i + SEQ_LENGTH]\n",
    "    label = total[i + SEQ_LENGTH]\n",
    "    X.append([char_to_n[char] for char in sequence])\n",
    "    Y.append(char_to_n[label])"
   ]
  },
  {
   "cell_type": "code",
   "execution_count": null,
   "metadata": {},
   "outputs": [],
   "source": [
    "X_mod = np.reshape(X, (len(X), SEQ_LENGTH, 1))\n",
    "X_mod = X_mod / float(len(characters))\n",
    "Y_mod = np_utils.to_categorical(Y)"
   ]
  },
  {
   "cell_type": "code",
   "execution_count": 17,
   "metadata": {},
   "outputs": [
    {
     "ename": "NameError",
     "evalue": "name 'X_mod' is not defined",
     "output_type": "error",
     "traceback": [
      "\u001b[1;31m---------------------------------------------------------------------------\u001b[0m",
      "\u001b[1;31mNameError\u001b[0m                                 Traceback (most recent call last)",
      "\u001b[1;32m<ipython-input-17-ae61baebf946>\u001b[0m in \u001b[0;36m<module>\u001b[1;34m()\u001b[0m\n\u001b[1;32m----> 1\u001b[1;33m \u001b[0mX_mod\u001b[0m\u001b[1;33m.\u001b[0m\u001b[0mshape\u001b[0m\u001b[1;33m\u001b[0m\u001b[0m\n\u001b[0m",
      "\u001b[1;31mNameError\u001b[0m: name 'X_mod' is not defined"
     ]
    }
   ],
   "source": [
    "X_mod.shape"
   ]
  },
  {
   "cell_type": "markdown",
   "metadata": {},
   "source": [
    "## 4. LSTM Model"
   ]
  },
  {
   "cell_type": "code",
   "execution_count": null,
   "metadata": {},
   "outputs": [],
   "source": [
    "from keras.models import Sequential\n",
    "from keras.layers import Dense\n",
    "from keras.layers import Dropout\n",
    "from keras.layers import LSTM\n",
    "from keras.utils import np_utils"
   ]
  },
  {
   "cell_type": "code",
   "execution_count": null,
   "metadata": {},
   "outputs": [],
   "source": [
    "model = Sequential()\n",
    "model.add(LSTM(700, input_shape=(X_mod.shape[1], X_mod.shape[2]), return_sequences=True))\n",
    "model.add(Dropout(0.2))\n",
    "model.add(LSTM(700, return_sequences=True))\n",
    "model.add(Dropout(0.2))\n",
    "model.add(LSTM(700))\n",
    "model.add(Dropout(0.2))\n",
    "model.add(Dense(Y_mod.shape[1], activation = 'softmax'))\n",
    "model.compile(loss='categorical_crossentropy', optimizer='adam')"
   ]
  },
  {
   "cell_type": "markdown",
   "metadata": {},
   "source": [
    "2 LSTM layers, 700 hidden states, dropout ratio = 0.2"
   ]
  },
  {
   "cell_type": "code",
   "execution_count": null,
   "metadata": {},
   "outputs": [],
   "source": [
    "model.fit(X_mod, Y_mod, epochs=10, batch_size=100)\n",
    "model.save_weights('models/dr-seuss-700-0.2-700-0.2-700-0.2-10-epochs.h5')"
   ]
  },
  {
   "cell_type": "markdown",
   "metadata": {},
   "source": [
    "1 epoch, batch size of 100"
   ]
  },
  {
   "cell_type": "code",
   "execution_count": null,
   "metadata": {},
   "outputs": [],
   "source": [
    "model.load_weights('models/dr-seuss-700-0.2-700-0.2-700-0.2-10-epochs.h5')"
   ]
  },
  {
   "cell_type": "markdown",
   "metadata": {},
   "source": [
    "## 5. Generate Text"
   ]
  },
  {
   "cell_type": "code",
   "execution_count": null,
   "metadata": {},
   "outputs": [],
   "source": [
    "string_mapped = list(X[0])\n",
    "full_string = [n_to_char[value] for value in string_mapped]\n",
    "# Number of characters in generated passage\n",
    "TEXT_LENGTH = 1000\n",
    "for i in range(TEXT_LENGTH):\n",
    "    x = np.reshape(string_mapped,(1,len(string_mapped), 1))\n",
    "    x = x / float(len(characters))\n",
    "    \n",
    "    pred_index = np.argmax(model.predict(x, verbose=0))\n",
    "    seq = [n_to_char[value] for value in string_mapped]\n",
    "    full_string.append(n_to_char[pred_index])\n",
    "    \n",
    "    string_mapped.append(pred_index)\n",
    "    string_mapped = string_mapped[1:len(string_mapped)]"
   ]
  },
  {
   "cell_type": "code",
   "execution_count": null,
   "metadata": {},
   "outputs": [],
   "source": [
    "#combining text\n",
    "txt=\"\"\n",
    "for char in full_string:\n",
    "    txt = txt+char\n",
    "print(txt[:SEQ_LENGTH])"
   ]
  },
  {
   "cell_type": "code",
   "execution_count": null,
   "metadata": {},
   "outputs": [],
   "source": [
    "print(txt)"
   ]
  },
  {
   "cell_type": "code",
   "execution_count": null,
   "metadata": {},
   "outputs": [],
   "source": []
  }
 ],
 "metadata": {
  "kernelspec": {
   "display_name": "Python 2",
   "language": "python",
   "name": "python2"
  },
  "language_info": {
   "codemirror_mode": {
    "name": "ipython",
    "version": 2
   },
   "file_extension": ".py",
   "mimetype": "text/x-python",
   "name": "python",
   "nbconvert_exporter": "python",
   "pygments_lexer": "ipython2",
   "version": "2.7.15"
  }
 },
 "nbformat": 4,
 "nbformat_minor": 2
}
