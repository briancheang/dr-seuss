{
 "cells": [
  {
   "cell_type": "markdown",
   "metadata": {},
   "source": [
    "# Data Exploration\n",
    "***"
   ]
  },
  {
   "cell_type": "markdown",
   "metadata": {},
   "source": [
    "## 1. Import Text Data"
   ]
  },
  {
   "cell_type": "code",
   "execution_count": 1,
   "metadata": {
    "collapsed": true
   },
   "outputs": [],
   "source": [
    "total = \"\"\n",
    "data = \"\""
   ]
  },
  {
   "cell_type": "code",
   "execution_count": 2,
   "metadata": {
    "collapsed": true
   },
   "outputs": [],
   "source": [
    "import os\n",
    "directory = \"texts/individual/\"\n",
    "files = []\n",
    "for filename in os.listdir(directory):\n",
    "    if filename.endswith(\".txt\"):\n",
    "        with open(directory+filename, \"r\") as myfile:\n",
    "            data = myfile.read().replace('\\n', ' ')\n",
    "        files.append(filename)\n",
    "    total = total + data"
   ]
  },
  {
   "cell_type": "code",
   "execution_count": 3,
   "metadata": {
    "collapsed": true
   },
   "outputs": [],
   "source": [
    "# Replace commas\n",
    "total = total.replace(\"\\xe2\\x80\\x99\", \"\\'\")\n",
    "# Replace ...\n",
    "total = total.replace(\"\\xe2\\x80\\xa6\", \"...\")\n",
    "# Replace quotations\n",
    "total = total.replace('\\xe2\\x80\\x9c','\"')\n",
    "total = total.replace('\\xe2\\x80\\x9d','\"')\n",
    "# Replace backslashes\n",
    "total = total.replace(\"\\\\\", \"\")\n",
    "# Convert to lowercase\n",
    "total = total.lower()"
   ]
  },
  {
   "cell_type": "code",
   "execution_count": 4,
   "metadata": {},
   "outputs": [
    {
     "data": {
      "text/plain": [
       "['the-cat-in-a-hat.txt',\n",
       " 'horton-hears-a-who.txt',\n",
       " 'ten-apples-up-on-top.txt',\n",
       " 'wacky-wednesday.txt',\n",
       " 'happy-birthday-to-you.txt',\n",
       " 'if-i-ran-the-zoo.txt',\n",
       " 'the-butter-battle-book.txt',\n",
       " 'the-foot-book.txt',\n",
       " 'oh-the-places-youll-go.txt',\n",
       " 'the-sneetches.txt',\n",
       " 'the-lorax.txt',\n",
       " 'marvin-k-mooney-will-you-please-go-now.txt',\n",
       " 'i-can-read-with-my-eyes-shut.txt',\n",
       " 'wocket-in-my-pocket.txt',\n",
       " 'hop-on-pop.txt',\n",
       " 'how-the-grinch-stole-christmas.txt',\n",
       " 'one-fish-two-fish-red-fish-blue-fish.txt',\n",
       " 'mr-brown-can-moo-can-you.txt',\n",
       " 'fox-in-socks.txt',\n",
       " 'green-eggs-and-ham.txt',\n",
       " 'in-a-people-house.txt']"
      ]
     },
     "execution_count": 4,
     "metadata": {},
     "output_type": "execute_result"
    }
   ],
   "source": [
    "files"
   ]
  },
  {
   "cell_type": "code",
   "execution_count": 5,
   "metadata": {},
   "outputs": [
    {
     "data": {
      "text/plain": [
       "85028"
      ]
     },
     "execution_count": 5,
     "metadata": {},
     "output_type": "execute_result"
    }
   ],
   "source": [
    "len(total)"
   ]
  },
  {
   "cell_type": "markdown",
   "metadata": {
    "collapsed": true
   },
   "source": [
    "## 2. Create Char Dictionary"
   ]
  },
  {
   "cell_type": "code",
   "execution_count": 6,
   "metadata": {
    "collapsed": true
   },
   "outputs": [],
   "source": [
    "def char_dict(texts):\n",
    "    wl = {}\n",
    "    for char in texts:\n",
    "        if char not in wl:\n",
    "            wl[char] = 1\n",
    "        else:\n",
    "            wl[char] += 1\n",
    "    return wl"
   ]
  },
  {
   "cell_type": "code",
   "execution_count": 7,
   "metadata": {
    "collapsed": true
   },
   "outputs": [],
   "source": [
    "import operator\n",
    "d = char_dict(total)\n",
    "sorted_cd = sorted(d.items(), key=lambda x: x[1], reverse=True)"
   ]
  },
  {
   "cell_type": "code",
   "execution_count": 8,
   "metadata": {
    "collapsed": true
   },
   "outputs": [],
   "source": [
    "# create a string composed of irrelevant characters (used less than 50 times)\n",
    "unwanted_chars = \"\"\n",
    "for c in sorted_cd:\n",
    "    if c[1] < 50:\n",
    "        unwanted_chars = unwanted_chars+str(c[0])\n",
    "# remove irrelevant characters from text data \n",
    "total=total.translate(None,unwanted_chars)"
   ]
  },
  {
   "cell_type": "code",
   "execution_count": 18,
   "metadata": {
    "collapsed": true
   },
   "outputs": [],
   "source": [
    "cd = char_dict(total)\n",
    "sorted_cd = sorted(cd.items(), key=lambda x: x[1], reverse=True)"
   ]
  },
  {
   "cell_type": "code",
   "execution_count": 19,
   "metadata": {},
   "outputs": [
    {
     "name": "stdout",
     "output_type": "stream",
     "text": [
      "Char Dictionary Size: 34\n"
     ]
    }
   ],
   "source": [
    "print('Char Dictionary Size: %d' % len(sorted_cd))"
   ]
  },
  {
   "cell_type": "code",
   "execution_count": 20,
   "metadata": {},
   "outputs": [
    {
     "name": "stdout",
     "output_type": "stream",
     "text": [
      "Dictionary:\n",
      " [(' ', 17149), ('e', 7122), ('o', 5735), ('t', 5557), ('a', 4842), ('h', 4180), ('n', 3987), ('i', 3912), ('s', 3653), ('r', 3052), ('l', 2999), ('d', 2499), ('u', 2117), ('w', 1818), ('.', 1808), ('y', 1602), ('m', 1568), ('c', 1434), ('g', 1398), ('p', 1196), ('f', 1124), ('k', 1111), ('b', 1095), (',', 961), ('!', 712), ('\"', 521), (\"'\", 486), ('v', 445), ('-', 244), ('x', 167), ('?', 136), ('z', 129), ('j', 108), ('q', 57)]\n"
     ]
    }
   ],
   "source": [
    "print('Dictionary:\\n %s' % sorted_cd)"
   ]
  },
  {
   "cell_type": "code",
   "execution_count": 21,
   "metadata": {
    "collapsed": true
   },
   "outputs": [],
   "source": [
    "import matplotlib.pyplot as plt\n",
    "import numpy as np"
   ]
  },
  {
   "cell_type": "code",
   "execution_count": 22,
   "metadata": {},
   "outputs": [],
   "source": [
    "cx = []\n",
    "cy = []\n",
    "for c in sorted_cd:\n",
    "    cx.append(c[0])\n",
    "    cy.append(c[1])"
   ]
  },
  {
   "cell_type": "code",
   "execution_count": 23,
   "metadata": {
    "collapsed": true
   },
   "outputs": [],
   "source": [
    "cx = np.array(cx)\n",
    "cy = np.array(cy)\n",
    "ind = np.arange(len(cy))"
   ]
  },
  {
   "cell_type": "code",
   "execution_count": 27,
   "metadata": {},
   "outputs": [
    {
     "data": {
      "image/png": "[encoded data removed]",
      "text/plain": [
       "<matplotlib.figure.Figure at 0x116387e10>"
      ]
     },
     "metadata": {},
     "output_type": "display_data"
    }
   ],
   "source": [
    "plt.bar(ind, cy, tick_label=cx, color='orange')\n",
    "plt.title('Dr. Seuss Character Usage')\n",
    "plt.xlabel('char')\n",
    "plt.ylabel('count')\n",
    "plt.show()"
   ]
  },
  {
   "cell_type": "markdown",
   "metadata": {},
   "source": [
    "## 3. Create Word Dictionary"
   ]
  },
  {
   "cell_type": "code",
   "execution_count": 54,
   "metadata": {
    "collapsed": true
   },
   "outputs": [],
   "source": [
    "def word_dict(texts):\n",
    "    wl = {}\n",
    "    tl = texts.split()\n",
    "    for word in tl:\n",
    "        if word not in wl:\n",
    "            wl[word] = 1\n",
    "        else:\n",
    "            wl[word] += 1\n",
    "    return wl"
   ]
  },
  {
   "cell_type": "code",
   "execution_count": 55,
   "metadata": {},
   "outputs": [],
   "source": [
    "import string\n",
    "total_no_punc = total.translate(None, string.punctuation)\n",
    "wd = word_dict(total_no_punc)\n",
    "sorted_wd = sorted(wd.items(), key=lambda x: x[1], reverse=True)"
   ]
  },
  {
   "cell_type": "code",
   "execution_count": 56,
   "metadata": {},
   "outputs": [
    {
     "name": "stdout",
     "output_type": "stream",
     "text": [
      "Word Dictionary Size: 2345\n"
     ]
    }
   ],
   "source": [
    "print('Word Dictionary Size: %d' % len(sorted_wd))"
   ]
  },
  {
   "cell_type": "code",
   "execution_count": 57,
   "metadata": {
    "collapsed": true
   },
   "outputs": [],
   "source": [
    "wx = []\n",
    "wy = []\n",
    "for w in sorted_wd:\n",
    "    wx.append(w[0])\n",
    "    wy.append(w[1])"
   ]
  },
  {
   "cell_type": "code",
   "execution_count": 58,
   "metadata": {
    "collapsed": true
   },
   "outputs": [],
   "source": [
    "wx = np.array(wx)\n",
    "wy = np.array(wy)\n",
    "ind = np.arange(len(wy))"
   ]
  },
  {
   "cell_type": "code",
   "execution_count": 59,
   "metadata": {},
   "outputs": [
    {
     "data": {
      "text/plain": [
       "array([679, 568, 468, ...,   1,   1,   1])"
      ]
     },
     "execution_count": 59,
     "metadata": {},
     "output_type": "execute_result"
    }
   ],
   "source": [
    "wy"
   ]
  },
  {
   "cell_type": "code",
   "execution_count": 71,
   "metadata": {},
   "outputs": [
    {
     "data": {
      "image/png": "[encoded data removed]",
      "text/plain": [
       "<matplotlib.figure.Figure at 0x1243d12d0>"
      ]
     },
     "metadata": {},
     "output_type": "display_data"
    }
   ],
   "source": [
    "plt.bar(ind[:20], wy[:20], tick_label=wx[:20], color='orange')\n",
    "plt.title('Dr. Seuss Top 20 Words')\n",
    "plt.ylabel('count')\n",
    "plt.show()"
   ]
  },
  {
   "cell_type": "code",
   "execution_count": 70,
   "metadata": {},
   "outputs": [
    {
     "data": {
      "image/png": "[encoded data removed]",
      "text/plain": [
       "<matplotlib.figure.Figure at 0x126aebe50>"
      ]
     },
     "metadata": {},
     "output_type": "display_data"
    }
   ],
   "source": [
    "plt.subplot(1,2,1)\n",
    "plt.bar(ind[:20], wy[:20], color='orange')\n",
    "plt.title('1 - 20')\n",
    "plt.ylabel('count')\n",
    "plt.subplot(1,2,2)\n",
    "plt.bar(ind[20:], wy[20:], color='orange')\n",
    "plt.title('Dr. Seuss 20- Words')\n",
    "plt.ylabel('count')\n",
    "plt.show()"
   ]
  },
  {
   "cell_type": "code",
   "execution_count": 62,
   "metadata": {},
   "outputs": [
    {
     "data": {
      "image/png": "[encoded data removed]",
      "text/plain": [
       "<matplotlib.figure.Figure at 0x11a064cd0>"
      ]
     },
     "metadata": {},
     "output_type": "display_data"
    }
   ],
   "source": [
    "import seaborn as sns\n",
    "sns.set()\n",
    "sns.distplot(wy)\n",
    "plt.show()"
   ]
  },
  {
   "cell_type": "code",
   "execution_count": null,
   "metadata": {
    "collapsed": true
   },
   "outputs": [],
   "source": []
  },
  {
   "cell_type": "code",
   "execution_count": null,
   "metadata": {
    "collapsed": true
   },
   "outputs": [],
   "source": []
  }
 ],
 "metadata": {
  "kernelspec": {
   "display_name": "Python 2",
   "language": "python",
   "name": "python2"
  },
  "language_info": {
   "codemirror_mode": {
    "name": "ipython",
    "version": 2
   },
   "file_extension": ".py",
   "mimetype": "text/x-python",
   "name": "python",
   "nbconvert_exporter": "python",
   "pygments_lexer": "ipython2",
   "version": "2.7.13"
  }
 },
 "nbformat": 4,
 "nbformat_minor": 2
}
