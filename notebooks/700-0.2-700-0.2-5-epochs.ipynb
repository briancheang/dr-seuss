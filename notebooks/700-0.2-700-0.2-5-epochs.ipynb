{
 "cells": [
  {
   "cell_type": "markdown",
   "metadata": {},
   "source": [
    "# Char RNN\n",
    "***"
   ]
  },
  {
   "cell_type": "markdown",
   "metadata": {},
   "source": [
    "### Data:\n",
    "18 Dr. Seuss Books, 80339 characters\n",
    "\n",
    "Char-Sequence Length = 100\n",
    "\n",
    "### Model: \n",
    "\n",
    "2-layer LSTM, 700 hidden states, dropout ratio = 0.2\n",
    "\n",
    "### Training:\n",
    "5 epochs, batch size of 1000\n",
    "\n",
    "---"
   ]
  },
  {
   "cell_type": "markdown",
   "metadata": {},
   "source": [
    "### Results: \n",
    "**Loss: 2.8886**\n",
    "\n",
    "the sun did not shine. it was too wet to play. so we sat in the house all that cold, cold, wet day. the ho the th th th th th th th th th th th th th th th th th th th th th th th th th th th th th th th th th th th th th th th th th th th th th th th th th th th th th th th th th th th th th th th th th th th th th th th th th th th th th th th th th th th th th th th th th th th th th th th th th th th th th th th th th th th th th th th th th th th th th th th th th th th th th th th th th th th th th th th th th th th th th th th th th th th th th th th th th th th th th th th th th th th th th th th th th th th th th th th th th th th th th th th th th th th th th th th th th th th th th th th th th th th th th th th th th th th th th th th th th th th th th th th th th th th th th th th th th th th th th th th th th th th th th th th th th th th th th th th th th th th th th th th th th th th th th th th th th th th th th th th th th th th th th th th th th th th th th th th th th th th th th th th th th th th th th th th th th th th th th th th th th th th th th th th th th th\n",
    "\n",
    "---"
   ]
  },
  {
   "cell_type": "markdown",
   "metadata": {},
   "source": [
    "## 1. Import Text Data"
   ]
  },
  {
   "cell_type": "code",
   "execution_count": 1,
   "metadata": {
    "collapsed": true
   },
   "outputs": [],
   "source": [
    "total = \"\"\n",
    "data = \"\""
   ]
  },
  {
   "cell_type": "code",
   "execution_count": 2,
   "metadata": {
    "collapsed": true
   },
   "outputs": [],
   "source": [
    "import os\n",
    "directory = \"texts/individual/\"\n",
    "files = []\n",
    "for filename in os.listdir(directory):\n",
    "    if filename.endswith(\".txt\"):\n",
    "        with open(directory+filename, \"r\") as myfile:\n",
    "            data = myfile.read().replace('\\n', ' ')\n",
    "        files.append(filename)\n",
    "    total = total + data"
   ]
  },
  {
   "cell_type": "code",
   "execution_count": 3,
   "metadata": {
    "collapsed": true
   },
   "outputs": [],
   "source": [
    "# Replace commas\n",
    "total = total.replace(\"\\xe2\\x80\\x99\", \"\\'\")\n",
    "# Replace ...\n",
    "total = total.replace(\"\\xe2\\x80\\xa6\", \"...\")\n",
    "# Replace quotations\n",
    "total = total.replace('\\xe2\\x80\\x9c','\"')\n",
    "total = total.replace('\\xe2\\x80\\x9d','\"')\n",
    "# Replace backslashes\n",
    "total = total.replace(\"\\\\\", \"\")\n",
    "# Convert to lowercase\n",
    "total = total.lower()"
   ]
  },
  {
   "cell_type": "code",
   "execution_count": 4,
   "metadata": {},
   "outputs": [
    {
     "data": {
      "text/plain": [
       "['the-cat-in-a-hat.txt',\n",
       " 'horton-hears-a-who.txt',\n",
       " 'ten-apples-up-on-top.txt',\n",
       " 'wacky-wednesday.txt',\n",
       " 'happy-birthday-to-you.txt',\n",
       " 'if-i-ran-the-zoo.txt',\n",
       " 'the-butter-battle-book.txt',\n",
       " 'the-foot-book.txt',\n",
       " 'oh-the-places-youll-go.txt',\n",
       " 'the-sneetches.txt',\n",
       " 'the-lorax.txt',\n",
       " 'marvin-k-mooney-will-you-please-go-now.txt',\n",
       " 'i-can-read-with-my-eyes-shut.txt',\n",
       " 'wocket-in-my-pocket.txt',\n",
       " 'hop-on-pop.txt',\n",
       " 'how-the-grinch-stole-christmas.txt',\n",
       " 'one-fish-two-fish-red-fish-blue-fish.txt',\n",
       " 'mr-brown-can-moo-can-you.txt',\n",
       " 'fox-in-socks.txt',\n",
       " 'green-eggs-and-ham.txt',\n",
       " 'in-a-people-house.txt']"
      ]
     },
     "execution_count": 4,
     "metadata": {},
     "output_type": "execute_result"
    }
   ],
   "source": [
    "files"
   ]
  },
  {
   "cell_type": "code",
   "execution_count": 5,
   "metadata": {},
   "outputs": [
    {
     "data": {
      "text/plain": [
       "85028"
      ]
     },
     "execution_count": 5,
     "metadata": {},
     "output_type": "execute_result"
    }
   ],
   "source": [
    "len(total)"
   ]
  },
  {
   "cell_type": "markdown",
   "metadata": {
    "collapsed": true
   },
   "source": [
    "## 2. Create Char Dictionary"
   ]
  },
  {
   "cell_type": "code",
   "execution_count": 6,
   "metadata": {
    "collapsed": true
   },
   "outputs": [],
   "source": [
    "def create_dict(texts):\n",
    "    wl = {}\n",
    "    for char in texts:\n",
    "        if char not in wl:\n",
    "            wl[char] = 1\n",
    "        else:\n",
    "            wl[char] += 1\n",
    "    return wl"
   ]
  },
  {
   "cell_type": "code",
   "execution_count": 7,
   "metadata": {
    "collapsed": true
   },
   "outputs": [],
   "source": [
    "import operator\n",
    "d = create_dict(total)\n",
    "sorted_d = sorted(d.items(), key=lambda x: x[1], reverse=True)"
   ]
  },
  {
   "cell_type": "code",
   "execution_count": 8,
   "metadata": {},
   "outputs": [
    {
     "name": "stdout",
     "output_type": "stream",
     "text": [
      "('\\xad', 10)\n",
      "(':', 10)\n",
      "('\\xc2', 10)\n",
      "('_', 10)\n",
      "('\\x80', 6)\n",
      "('\\xe2', 6)\n",
      "('\\x98', 5)\n",
      "('1', 5)\n",
      "('5', 4)\n",
      "('\\xef', 3)\n",
      "(')', 3)\n",
      "('0', 3)\n",
      "('3', 3)\n",
      "('2', 3)\n",
      "('(', 3)\n",
      "('6', 3)\n",
      "('\\xbf', 3)\n",
      "('4', 3)\n",
      "('\\xbb', 2)\n",
      "(';', 2)\n",
      "('/', 1)\n",
      "('9', 1)\n",
      "('8', 1)\n",
      "('\\xbd', 1)\n",
      "('\\xbe', 1)\n",
      "('\\xcd', 1)\n",
      "('\\x94', 1)\n"
     ]
    }
   ],
   "source": [
    "# create a string composed of irrelevant characters (used less than 50 times)\n",
    "unwanted_chars = \"\"\n",
    "for c in sorted_d:\n",
    "    if c[1] < 50:\n",
    "        print(c)\n",
    "        unwanted_chars = unwanted_chars+str(c[0])"
   ]
  },
  {
   "cell_type": "code",
   "execution_count": 9,
   "metadata": {
    "collapsed": true
   },
   "outputs": [],
   "source": [
    "# remove irrelevant characters from text data \n",
    "total=total.translate(None,unwanted_chars)"
   ]
  },
  {
   "cell_type": "code",
   "execution_count": 10,
   "metadata": {
    "collapsed": true
   },
   "outputs": [],
   "source": [
    "d = create_dict(total)\n",
    "sorted_d = sorted(d.items(), key=lambda x: x[1], reverse=True)"
   ]
  },
  {
   "cell_type": "code",
   "execution_count": 11,
   "metadata": {},
   "outputs": [
    {
     "name": "stdout",
     "output_type": "stream",
     "text": [
      "Dictionary Size: 34\n"
     ]
    }
   ],
   "source": [
    "print('Dictionary Size: %d' % len(sorted_d))"
   ]
  },
  {
   "cell_type": "code",
   "execution_count": 12,
   "metadata": {},
   "outputs": [
    {
     "name": "stdout",
     "output_type": "stream",
     "text": [
      "Dictionary:\n",
      " [(' ', 17149), ('e', 7122), ('o', 5735), ('t', 5557), ('a', 4842), ('h', 4180), ('n', 3987), ('i', 3912), ('s', 3653), ('r', 3052), ('l', 2999), ('d', 2499), ('u', 2117), ('w', 1818), ('.', 1808), ('y', 1602), ('m', 1568), ('c', 1434), ('g', 1398), ('p', 1196), ('f', 1124), ('k', 1111), ('b', 1095), (',', 961), ('!', 712), ('\"', 521), (\"'\", 486), ('v', 445), ('-', 244), ('x', 167), ('?', 136), ('z', 129), ('j', 108), ('q', 57)]\n"
     ]
    }
   ],
   "source": [
    "print('Dictionary:\\n %s' % sorted_d)"
   ]
  },
  {
   "cell_type": "code",
   "execution_count": 13,
   "metadata": {
    "collapsed": true
   },
   "outputs": [],
   "source": [
    "import matplotlib.pyplot as plt\n",
    "import numpy as np"
   ]
  },
  {
   "cell_type": "code",
   "execution_count": 14,
   "metadata": {
    "collapsed": true
   },
   "outputs": [],
   "source": [
    "cx = []\n",
    "cy = []\n",
    "for c in sorted_d:\n",
    "    cx.append(c[0])\n",
    "    cy.append(c[1])"
   ]
  },
  {
   "cell_type": "code",
   "execution_count": 15,
   "metadata": {
    "collapsed": true
   },
   "outputs": [],
   "source": [
    "cx = np.array(cx)\n",
    "cy = np.array(cy)\n",
    "ind = np.arange(len(cy))"
   ]
  },
  {
   "cell_type": "code",
   "execution_count": 16,
   "metadata": {},
   "outputs": [
    {
     "data": {
      "image/png": "[encoded data removed]",
      "text/plain": [
       "<matplotlib.figure.Figure at 0x10f8a4d10>"
      ]
     },
     "metadata": {},
     "output_type": "display_data"
    }
   ],
   "source": [
    "plt.bar(ind, cy, tick_label=cx, color='orange')\n",
    "plt.title('Dr. Seuss Character Usage')\n",
    "plt.xlabel('char')\n",
    "plt.ylabel('count')\n",
    "plt.show()"
   ]
  },
  {
   "cell_type": "markdown",
   "metadata": {},
   "source": [
    "## 3. Vectorize on Char Dict"
   ]
  },
  {
   "cell_type": "code",
   "execution_count": 17,
   "metadata": {
    "collapsed": true
   },
   "outputs": [],
   "source": [
    "SEQ_LENGTH = 100"
   ]
  },
  {
   "cell_type": "code",
   "execution_count": 18,
   "metadata": {
    "collapsed": true
   },
   "outputs": [],
   "source": [
    "characters = []\n",
    "for pair in sorted_d:\n",
    "    characters.append(pair[0])"
   ]
  },
  {
   "cell_type": "code",
   "execution_count": 19,
   "metadata": {
    "collapsed": true
   },
   "outputs": [],
   "source": [
    "n_to_char = {n:char for n, char in enumerate(characters)}\n",
    "char_to_n = {char:n for n, char in enumerate(characters)}"
   ]
  },
  {
   "cell_type": "code",
   "execution_count": 20,
   "metadata": {},
   "outputs": [
    {
     "name": "stderr",
     "output_type": "stream",
     "text": [
      "Using TensorFlow backend.\n"
     ]
    }
   ],
   "source": [
    "import numpy as np\n",
    "from keras.utils import np_utils\n",
    "X = []\n",
    "Y = []\n",
    "length = len(total)\n",
    "for i in range(0, length - SEQ_LENGTH, 1):\n",
    "    sequence = total[i:i + SEQ_LENGTH]\n",
    "    label = total[i + SEQ_LENGTH]\n",
    "    X.append([char_to_n[char] for char in sequence])\n",
    "    Y.append(char_to_n[label])"
   ]
  },
  {
   "cell_type": "code",
   "execution_count": 21,
   "metadata": {
    "collapsed": true
   },
   "outputs": [],
   "source": [
    "X_mod = np.reshape(X, (len(X), SEQ_LENGTH, 1))\n",
    "X_mod = X_mod / float(len(characters))\n",
    "Y_mod = np_utils.to_categorical(Y)"
   ]
  },
  {
   "cell_type": "code",
   "execution_count": 22,
   "metadata": {},
   "outputs": [
    {
     "data": {
      "text/plain": [
       "(84824, 100, 1)"
      ]
     },
     "execution_count": 22,
     "metadata": {},
     "output_type": "execute_result"
    }
   ],
   "source": [
    "X_mod.shape"
   ]
  },
  {
   "cell_type": "markdown",
   "metadata": {},
   "source": [
    "## 4. LSTM Model"
   ]
  },
  {
   "cell_type": "code",
   "execution_count": 23,
   "metadata": {
    "collapsed": true
   },
   "outputs": [],
   "source": [
    "from keras.models import Sequential\n",
    "from keras.layers import Dense\n",
    "from keras.layers import Dropout\n",
    "from keras.layers import LSTM\n",
    "from keras.utils import np_utils"
   ]
  },
  {
   "cell_type": "code",
   "execution_count": 24,
   "metadata": {
    "collapsed": true
   },
   "outputs": [],
   "source": [
    "model = Sequential()\n",
    "model.add(LSTM(700, input_shape=(X_mod.shape[1], X_mod.shape[2]), return_sequences=True))\n",
    "model.add(Dropout(0.2))\n",
    "model.add(LSTM(700))\n",
    "model.add(Dropout(0.2))\n",
    "model.add(Dense(Y_mod.shape[1], activation = 'softmax'))\n",
    "model.compile(loss='categorical_crossentropy', optimizer='adam')"
   ]
  },
  {
   "cell_type": "code",
   "execution_count": 25,
   "metadata": {},
   "outputs": [],
   "source": [
    "#model.fit(X_mod, Y_mod, epochs=5, batch_size=1000)\n",
    "#model.save_weights('models/dr-seuss-700-0.2-700-0.2-5-epochs.h5')"
   ]
  },
  {
   "cell_type": "code",
   "execution_count": 26,
   "metadata": {
    "collapsed": true
   },
   "outputs": [],
   "source": [
    "model.load_weights('models/dr-seuss-700-0.2-700-0.2-5-epochs.h5')"
   ]
  },
  {
   "cell_type": "markdown",
   "metadata": {},
   "source": [
    "## 5. Generate Text"
   ]
  },
  {
   "cell_type": "code",
   "execution_count": 27,
   "metadata": {
    "collapsed": true
   },
   "outputs": [],
   "source": [
    "string_mapped = list(X[0])\n",
    "full_string = [n_to_char[value] for value in string_mapped]\n",
    "# Number of characters in generated passage\n",
    "TEXT_LENGTH = 1000\n",
    "for i in range(TEXT_LENGTH):\n",
    "    x = np.reshape(string_mapped,(1,len(string_mapped), 1))\n",
    "    x = x / float(len(characters))\n",
    "    \n",
    "    pred_index = np.argmax(model.predict(x, verbose=0))\n",
    "    seq = [n_to_char[value] for value in string_mapped]\n",
    "    full_string.append(n_to_char[pred_index])\n",
    "    \n",
    "    string_mapped.append(pred_index)\n",
    "    string_mapped = string_mapped[1:len(string_mapped)]"
   ]
  },
  {
   "cell_type": "code",
   "execution_count": 28,
   "metadata": {},
   "outputs": [
    {
     "name": "stdout",
     "output_type": "stream",
     "text": [
      "the sun did not shine. it was too wet to play. so we sat in the house all that cold, cold, wet day. \n"
     ]
    }
   ],
   "source": [
    "#combining text\n",
    "txt=\"\"\n",
    "for char in full_string:\n",
    "    txt = txt+char\n",
    "print(txt[:SEQ_LENGTH])"
   ]
  },
  {
   "cell_type": "code",
   "execution_count": 29,
   "metadata": {},
   "outputs": [
    {
     "name": "stdout",
     "output_type": "stream",
     "text": [
      "the sun did not shine. it was too wet to play. so we sat in the house all that cold, cold, wet day. the ho the th th th th th th th th th th th th th th th th th th th th th th th th th th th th th th th th th th th th th th th th th th th th th th th th th th th th th th th th th th th th th th th th th th th th th th th th th th th th th th th th th th th th th th th th th th th th th th th th th th th th th th th th th th th th th th th th th th th th th th th th th th th th th th th th th th th th th th th th th th th th th th th th th th th th th th th th th th th th th th th th th th th th th th th th th th th th th th th th th th th th th th th th th th th th th th th th th th th th th th th th th th th th th th th th th th th th th th th th th th th th th th th th th th th th th th th th th th th th th th th th th th th th th th th th th th th th th th th th th th th th th th th th th th th th th th th th th th th th th th th th th th th th th th th th th th th th th th th th th th th th th th th th th th th th th th th th th th th th th th th th th th th th th th th th th th\n"
     ]
    }
   ],
   "source": [
    "print(txt)"
   ]
  },
  {
   "cell_type": "code",
   "execution_count": null,
   "metadata": {
    "collapsed": true
   },
   "outputs": [],
   "source": []
  }
 ],
 "metadata": {
  "kernelspec": {
   "display_name": "Python 2",
   "language": "python",
   "name": "python2"
  },
  "language_info": {
   "codemirror_mode": {
    "name": "ipython",
    "version": 2
   },
   "file_extension": ".py",
   "mimetype": "text/x-python",
   "name": "python",
   "nbconvert_exporter": "python",
   "pygments_lexer": "ipython2",
   "version": "2.7.13"
  }
 },
 "nbformat": 4,
 "nbformat_minor": 2
}
