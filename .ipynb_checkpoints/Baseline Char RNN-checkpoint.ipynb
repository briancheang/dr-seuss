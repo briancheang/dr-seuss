{
 "cells": [
  {
   "cell_type": "markdown",
   "metadata": {},
   "source": [
    "# Baseline Char RNN\n",
    "***"
   ]
  },
  {
   "cell_type": "markdown",
   "metadata": {},
   "source": [
    "## 1. Import Text Data"
   ]
  },
  {
   "cell_type": "code",
   "execution_count": 1,
   "metadata": {
    "collapsed": true
   },
   "outputs": [],
   "source": [
    "total = \"\"\n",
    "data = \"\""
   ]
  },
  {
   "cell_type": "code",
   "execution_count": 2,
   "metadata": {
    "collapsed": true
   },
   "outputs": [],
   "source": [
    "import os\n",
    "directory = \"texts/individual/\"\n",
    "files = []\n",
    "for filename in os.listdir(directory):\n",
    "    if filename.endswith(\".txt\"):\n",
    "        with open (directory+filename, \"r\") as myfile:\n",
    "            data = myfile.read().replace('\\n', ' ')\n",
    "        files.append(filename)\n",
    "    total = total + data"
   ]
  },
  {
   "cell_type": "code",
   "execution_count": 3,
   "metadata": {},
   "outputs": [],
   "source": [
    "# Replace commas\n",
    "total = total.replace(\"\\xe2\\x80\\x99\", \"\\'\")\n",
    "# Replace ...\n",
    "total = total.replace(\"\\xe2\\x80\\xa6\", \"...\")\n",
    "# Replace backslashes\n",
    "total = total.replace(\"\\\\\", \"\")\n",
    "# Convert to lowercase\n",
    "total = total.lower()"
   ]
  },
  {
   "cell_type": "code",
   "execution_count": 4,
   "metadata": {},
   "outputs": [
    {
     "data": {
      "text/plain": [
       "['oh-the-places-youll-go.txt',\n",
       " 'wocket-in-my-pocket.txt',\n",
       " 'hop-on-pop.txt',\n",
       " 'cat-in-a-hat.txt',\n",
       " 'how-the-grinch-stole-christmas.txt',\n",
       " 'one-fish-two-fish-red-fish-blue-fish.txt',\n",
       " 'fox-in-socks.txt',\n",
       " 'green-eggs-and-ham.txt']"
      ]
     },
     "execution_count": 4,
     "metadata": {},
     "output_type": "execute_result"
    }
   ],
   "source": [
    "files"
   ]
  },
  {
   "cell_type": "code",
   "execution_count": 5,
   "metadata": {},
   "outputs": [
    {
     "data": {
      "text/plain": [
       "'congratulations! today is your day. you\\'re off to great places! you\\'re off and away!  you have brains in your head. you have feet in your shoes. you can steer yourself  any direction you choose. you\\'re on your own. and you know what you know. and you are the guy who\\'ll decide where to go.  you\\'ll look up and down streets. look \\'em over with care. about some you will say, \"i don\\'t choose to go there.\" with your head full of brains and your shoes full of feet,  you\\'re too smart to go down any not-so-good street.  and you may not find any you\\'ll want to go down. in that case, of course, you\\'ll head straight out of town.  it\\'s opener there in the wide open air.  out there things can happen and frequently do to people as brainy and footsy as you.  and then things start to happen, don\\'t worry. don\\'t stew. just go right along. you\\'ll start happening too.  oh! the places you\\'ll go!  you\\'ll be on y our way up! you\\'ll be seeing great sights! you\\'ll join the high fliers who soar to high heights.  you won\\'t lag behind, because you\\'ll have the speed. you\\'ll pass the whole gang and you\\'ll soon take the lead. wherever you fly, you\\'ll be best of the best. wherever you go, you will top all the rest.  except when you don\\'t. because, sometimes, you won\\'t.  i\\'m sorry to say so but, sadly, it\\'s true that bang-ups and hang-ups can happen to you.  you can get all hung up in a prickle-ly perch. and your gang will fly on. you\\'ll be left in a lurch.  you\\'ll come down from the lurch with an unpleasant bump. and the chances are, then, that you\\'ll be in a slump.  and when you\\'re in a slump, you\\'re not in for much fun. un-slumping yourself is not easily done.  you will come to a place where the streets are not marked. some windows are lighted. but mostly they\\'re darked. a place you could sprain both your elbow and chin! do you dare to stay out? do you dare to go in? how much can you lose? how much can you win?  and if you go in, should you turn left or right... or right-and-three-quarters? or, maybe, not quite? or go around back and sneak in from behind? simple it\\'s not, i\\'m afraid you will find, for a mind-maker-upper to make up his mind.  you can get so confused that you\\'ll start in to race down long wiggled roads at a break-necking pace and grind on for miles cross weirdish wild space, headed, i fear, toward a most useless place. the waiting place...  ...for people just waiting. waiting for a train to go or a bus to come, or a plane to go or the mail to come, or the rain to go or the phone to ring, or the snow to snow or the waiting around for a yes or no or waiting for their hair to grow. everyone is just waiting.  waiting for the fish to bite or waiting for the wind to fly a kite or waiting around for friday night or waiting, perhaps, for their uncle jake or a pot to boil, or a better break or a string of pearls, or a pair of pants or a wig with curls, or another chance. everyone is just waiting.  no! that\\'s not for you!  somehow you\\'ll escape all that waiting and staying you\\'ll find the bright places where boom bands are playing.  with banner flip-flapping, once more you\\'ll ride high! ready for anything under the sky. ready because you\\'re that kind of a guy!  oh, the places you\\'ll go! there is fun to be done! there are points to be scored. there are games to be won. and the magical things you can do with that ball will make you the winning-est winner of all. fame! you\\'ll be as famous as famous can be, with the whole wide world watching you win on tv.  except when they don\\'t because, sometimes they won\\'t.  i\\'m afraid that some times you\\'ll play lonely games too. games you can\\'t win \\'cause you\\'ll play against you.  all alone! whether you like it or not, alone will be something you\\'ll be quite a lot.  and when you\\'re alone, there\\'s a very good chance you\\'ll meet things that scare you right out of your pants. there are some, down the road between hither and yon, that can scare you so much you won\\'t want to go on.  but on you will go though the weather be foul. on you will go though your enemies prowl. on you will go though the hakken-kraks howl. onward up many a frightening creek, though your arms may get sore and your sneakers may leak.  on and on you will hike, and i know you\\'ll hike far and face up to your problems whatever they are.  you\\'ll get mixed up, of course, as you already know. you\\'ll get mixed up  with many strange birds as you go. so be sure when you step. step with care and great tact and remember that life\\'s  a great balancing act. just never foget to be dexterous and deft. and never mix up your right foot with your left.  and will you succeed? yes! you will, indeed! (98 and 3/4 percent guaranteed.)  kid, you\\'ll move mountains!  so... be your name buxbaum or bixby or bray or mordecai ali van allen o\\'shea, you\\'re off the great places! today is your day! your mountain is waiting. so...get on your way!did you ever have the feeling there\\'s a wasket in your basket? or a nureau in your bureau? or a woset in your closet? sometimes i feel quite certain there\\'s a jertain in the curtain. sometimes i have the feeling there\\'s a zlock behind the clock. and that zelf up on that shelf! i have talked to him myself. that\\'s the kind of house i live in. there\\'s a nink in the sink. and a zamp in the lamp. and they\\'re rather nice...i think. some of them are very friendly. like the yot in the pot. but that yottle in the bottle, some are friendly. some are not. i like the zable on the table. and the ghair under the chair. but that bofa on the sofa...well, i wish he wasn\\'t there. all those nupboards in the cupboards, they\\'re good fun to have about. but that noothgrush on my toothbrush... him i could do without! the only one i\\'m really scared of is that vug under the rug. and that quimney up the chimney... i don\\'t like him. not at all. and it makes me sort of nervous when the zall scoots down the hall. but the yeps on the steps  they\\'re great fun to have around. and so are the many, many friends that i have found. like the tellar and the nellar and the gellar and the dellar and the bellar and the wellar and the zellar in the cellar.   and the geeling on the ceiling...  ...and the zower in my shower...  and the zillow on my pillow. i don\\'t care if you believe it. that\\'s the kind of house i live in. and i hope we never leave it.up pup pup is up. cup pup pup in cup. pup cup cup on pup. mouse house mouse on house. house mouse house on mouse. all tall we all are tall. all small we all are small. all ball we all play ball. ball wall up on a wall. all fall fall off the wall. day play we play all day. night fight we fight all night.he me he is after me. him jim jim is after him. see bee we see a bee. see bee three now we see three. three tree three fish in a tree. fish in a tree? how can that be? red red they call me red. red bed i am in bed. red ned ted and ed in bed pat pat they call him pat. pat sat pat sat on hat. pat cat pat sat on cat. pat bat pat sat on bat. no pat no don\\'t sit on that. sad dad bad had dad is sad. very, very sad. he had a bad day. what a day dad had! thing thing what is that thing?thing sing that thing can sing! song long a long, long song. good-by, thing. you sing too long. walk walk we like to walk. walk talk we like to talk. hop pop we like to hop. we like to hop on top of pop. stop you must not hop on pop. mr. brown mrs. brown mr. brown upside down. pup up. brown down. pup is down. where is brown? where is brown? there is brown! mr. brown is out of town. back black brown came back.brown came back with mr. black. snack snack eat a snack. eat a snack with brown and black. jump bump he jumped. he bumped. fast past he went past fast. went tent sent he went into the tent. i sent him out of the tent. wet get two dogs get wet. help yelp they yelp for help. hill will will went up hill. will hill still will is up hill still. father mother sister brother that one is my other brother. my brothers read a little bit. little words like if and it. my father can read big words, too. like constantinople and timbuktu say say what does this say? seehemewepatpup pop hethreetreebee tophopstop ask me tomorrow but not today.the sun did not shine. it was too wet to play. so we sat in the house all that cold, cold, wet day.  i sat there with sally. we sat there, we two. and i said, \"how i wish we had something to do!\"  too wet to go out and too cold to play ball. so we sat in the house. we did nothing at all.  so all we could do was to  sit! sit! sit! sit!  and we did not like it. not one little bit.  bump!  and then something went bump! how that bump made us jump!  we looked! then we saw him step in on the mat! we looked! and we saw him! the cat in the hat! and he said to us, \"why do you sit there like that?\" \"i know it is wet and the sun is not sunny. but we can have lots of good fun that is funny!\"  \"i know some good games we could play,\" said the cat. \"i know some new tricks,\" said the cat in the hat. \"a lot of good tricks. i will show them to you. your mother will not mind at all if i do.\"  then sally and i did not know what to say. our mother was out of the house for the day.  but our fish said, \"no! no! make that cat go away! tell that cat in the hat you do not want to play. he should not be here. he should not be about. he should not be here when your mother is out!\"  \"now! now! have no fear. have no fear!\" said the cat. \"my tricks are not bad,\" said the cat in the hat. \"why, we can have lots of good fun, if you wish, with a game that i call up-up-up with a fish!\"  \"put me down!\" said the fish. \"this is no fun at all! put me down!\" said the fish. \"i do not wish to fall!\"  \"have no fear!\" said the cat. \"i will not let you fall. i will hold you up high as i stand on a ball. with a book on one hand! and a cup on my hat! but that is not all i can do!\" said the cat...  \"look at me! look at me now!\" said the cat. \"with a cup and a cake on the top of my hat! i can hold up two books! i can hold up the fish! and a litte toy ship! and some milk on a dish! and look! i can hop up and down on the ball! but that is not all! oh, no. that is not all...  \"look at me! look at me! look at me now! it is fun to have fun but you have to know how. i can hold up the cup and the milk and the cake! i can hold up these books! and the fish on a rake! i can hold the toy ship and a little toy man! and look! with my tail i can hold a red fan! i can fan with the fan as i hop on the ball! but that is not all. oh, no. that is not all....\"  that is what the cat said... then he fell on his head! he came down with a bump from up there on the ball. and sally and i, we saw all the things fall!  and our fish came down, too. he fell into a pot! he said, \"do i like this?\" oh, no! i do not. this is not a good game,\" said our fish as he lit. \"no, i do not like it, not one little bit!\"  \"now look what you did!\" said the fish to the cat. \"now look at this house! look at this! look at that! you sank our toy ship, sank it deep in the cake. you shook up our house and you bent our new rake. you should not be here when our mother is not. you get out of this house!\" said the fish in the pot.  \"but i like to be here. oh, i like it a lot!\" said the cat in the hat to the fish in the pot. \"i will not go away. i do not wish to go! and so,\" said the cat in the hat,  \"so so so...  i will show you another good game that i know!\" and then he ran out. and, then, fast as a fox, the cat in the hat came back in with a box. a big red wood box. it was shut with a hook. \"now look at this trick,\" said the cat. \"take a look!\"  then he got up on top with a tip of his hat. \"i call this game fun-in-a-box,\" said the cat. \"in this box are two things i will show to you now. you will like these two things,\" said the cat with a bow.  \"i will pick up the hook. you will see something new. two things. and i call them thing one and thing two. these things will not bite you. they want to have fun.\" then, out of the box came thing two and thing one! and they ran to us fast. they said, \"how do you do? would you like to shake hands with thing one and thing two?\"  and sally and i did not know what to do. so we had to shake hands with thing one and thing two. we shook their two hands. but our fish said, \"no! no! those things should not be in this house! make them go! \"they should not be here when your mother is not! put them out! put them out!\" said the fish in the pot.  \"have no fear, little fish,\" said the cat in the hat. \"these things are good things.\" and he gave them a pat. \"they are tame. oh, so tame! they have come here to play. they will give you some fun on this wet, wet, wet day.\"  \"now, here is a game that they like,\" said the cat. \"they like to fly kites,\" said the cat in the hat  \"no! not in the house!\" said the fish in the pot. \"they should not fly kites in a house! they should not. oh, the things they will bump! oh, the things they will hit! oh, i do not like it! not one little bit!\" then sally and i saw them run down the hall. we saw those two things bump their kites on the wall! bump! thump! thump! bump! down the wall in the hall.  thing two and thing one! they ran up! they ran down! on the string of one kite we saw mother\\'s new gown! her gown with the dots that are pink, white and red. then we saw one kite bump on the head of her bed!  then those things ran about with big bumps, jumps and kicks and with hops and big thumps and all kinds of bad tricks. and i said, \"i do not like the way that they play if mother could see this, oh, what would she say!\"  then our fish said, \"look! look!\" and our fish shook with fear. \"your mother is on her way home! do you hear? oh, what will she do to us? what will she say? oh, she will not like it to find us this way!\"  \"so, do something! fast!\" said the fish. \"do you hear! i saw her. your mother! your mother is near! so, as fast as you can, think of something to do! you will have to get rid of thing one and thing two!\"  so, as fast as i could, i went after my net. and i said, \"with my net i can get them i bet. i bet, with my net, i can get those things yet!\"  then i let down my net. it came down with a plop! and i had them! at last! thoe two things had to stop. then i said to the cat, \"now you do as i say. you pack up those things and you take them away!\"  \"oh dear!\" said the cat, \"you did not like our game... oh dear.  what a shame! what a shame! what a shame!\"  then he shut up the things in the box with the hook. and the cat went away with a sad kind of look.  \"that is good,\" said the fish. \"he has gone away. yes. but your mother will come. she will find this big mess! and this mess is so big and so deep and so tall, we ca not pick it up. there is no way at all!\"  and then! who was back in the house? why, the cat! \"have no fear of this mess,\" said the cat in the hat. \"i always pick up all my playthings and so... i will show you another good trick that i know!\"  then we saw him pick up all the things that were down. he picked up the cake, and the rake, and the gown, and the milk, and the strings, and the books, and the dish, and the fan, and the cup, and the ship, and the fish. and he put them away. then he said, \"that is that.\" and then he was gone with a tip of his hat.  then our mother came in and she said to us two, \"did you have any fun? tell me. what did you do?\"  and sally and i did not know what to say. should we tell her the things that went on there that day?  should we tell her about it? now, what should we do? well... what would you do if your mother asked you?every who down in whoville liked christmas a lot... but the grinch,who lived just north of whoville, did not! the grinch hated christmas! the whole christmas season! now, please don\\'t ask why. no one quite knows the reason. it could be his head wasn\\'t screwed on just right. it could be, perhaps, that his shoes were too tight. but i think that the most likely reason of all, may have been that his heart was two sizes too small. whatever the reason, his heart or his shoes, he stood there on christmas eve, hating the whos, staring down from his cave with a sour, grinchy frown, at the warm lighted windows below in their town. for he knew every who down in whoville beneath, was busy now, hanging a mistletoe wreath. \"and they\\'re hanging their stockings!\" he snarled with a sneer, \"tomorrow is christmas! it\\'s practically here!\" then he growled, with his grinch fingers nervously drumming, \"i must find some way to stop christmas from coming!\" for tomorrow, he knew, all the who girls and boys, would wake bright and early. they\\'d rush for their toys! and then! oh, the noise! oh, the noise! noise! noise! noise! that\\'s one thing he hated! the noise! noise! noise! noise! then the whos, young and old, would sit down to a feast. and they\\'d feast! and they\\'d feast! and they\\'d feast! feast! feast! feast! they would feast on who-pudding, and rare who-roast beast. which was something the grinch couldn\\'t stand in the least! and then they\\'d do something he liked least of all! every who down in whoville, the tall and the small, would stand close together, with christmas bells ringing. they\\'d stand hand-in-hand. and the whos would start singing! they\\'d sing! and they\\'d sing! and they\\'d sing! sing! sing! sing! and the more the grinch thought of this who christmassing, the more the grinch thought, \"i must stop this whole thing!\" \"why, for fifty-three years i\\'ve put up with it now!\" \"i must stop this christmas from coming! but how?\" then he got an idea! an awful idea! the grinch got a wonderful, awful idea! \"i know just what to do!\" the grinch laughed in his throat. and he made a quick santy claus hat and a coat. and he chuckled, and clucked, \"what a great grinchy trick!\" \"with this coat and this hat, i look just like saint nick!\" \"all i need is a reindeer...\" the grinch looked around. but, since reindeer are scarce, there was none to be found. did that stop the old grinch? no! the grinch simply said, \"if i can\\'t find a reindeer, i\\'ll make one instead!\" so he called his dog, max. then he took some red thread, and he tied a big horn on the top of his head. then he loaded some bags and some old empty sacks, on a ramshackle sleigh and he hitched up old max. then the grinch said, \"giddap!\" and the sleigh started down, toward the homes where the whos lay asnooze in their town. all their windows were dark. quiet snow filled the air. all the whos were all dreaming sweet dreams without care. when he came to the first little house on the square. \"this is stop number one,\" the old grinchy claus hissed, and he climbed to the roof, empty bags in his fist. then he slid down the chimney. a rather tight pinch. but, if santa could do it, then so could the grinch. he got stuck only once, for a moment or two. then he stuck his head out of the fireplace flue. where the little who stockings all hung in a row. \"these stockings,\" he grinned, \"are the first things to go!\" then he slithered and slunk, with a smile most unpleasant, around the whole room, and he took every present! pop guns! and bicycles! roller skates! drums! checkerboards! tricycles! popcorn! and plums! and he stuffed them in bags. then the grinch, very nimbly, stuffed all the bags, one by one, up the chimney! then he slunk to the icebox. he took the whos\\' feast! he took the who-pudding! he took the roast beast! he cleaned out that icebox as quick as a flash. why, that grinch even took their last can of who-hash! then he stuffed all the food up the chimney with glee. \"and now!\" grinned the grinch, \"i will stuff up the tree!\" and the grinch grabbed the tree, and he started to shove, when he heard a small sound like the coo of a dove. he turned around fast, and he saw a small who! little cindy-lou who, who was not more than two. the grinch had been caught by this tiny who daughter, who\\'d got out of bed for a cup of cold water. she stared at the grinch and said, \"santy claus, why,\\xef\\xbf\\xbd \"why are you taking our christmas tree? why?\" but, you know, that old grinch was so smart and so slick, he thought up a lie, and he thought it up quick! \"why, my sweet little tot,\" the fake santy claus lied, \"there\\'s a light on this tree that won\\'t light on one side.\" \"so i\\'m taking it home to my workshop, my dear.\" \"i\\'ll fix it up there. then i\\'ll bring it back here.\" and his fib fooled the child. then he patted her head, and he got her a drink and he sent her to bed. and when cindylou who went to bed with her cup, he went to the chimney and stuffed the tree up! then the last thing he took was the log for their fire! then he went up the chimney, himself, the old liar. on their walls he left nothing but hooks and some wire. and the one speck of food that he left in the house, was a crumb that was even too small for a mouse. then he did the same thing to the other whos\\' houses leaving crumbs much too small for the other whos\\' mouses! it was quarter past dawn... all the whos, still a-bed, all the whos, still asnooze when he packed up his sled, packed it up with their presents! the ribbons! the wrappings! the tags! and the tinsel! the trimmings! the trappings! three thousand feet up! up the side of mt. crumpit, he rode with his load to the tiptop to dump it! \"poohpooh to the whos!\" he was grinchishly humming. \"they\\'re finding out now that no christmas is coming!\" \"they\\'re just waking up! i know just what they\\'ll do!\" \"their mouths will hang open a minute or two, then the whos down in whoville will all cry boohoo!\" \"that\\'s a noise,\" grinned the grinch, \"that i simply must hear!\" so he paused. and the grinch put his hand to his ear. and he did hear a sound rising over the snow. it started in low. then it started to grow. but the sound wasn\\'t sad! why, this sound sounded merry! it couldn\\'t be so! but it was merry! very! he stared down at whoville! the grinch popped his eyes! then he shook! what he saw was a shocking surprise! every who down in whoville, the tall and the small, was singing! without any presents at all! he hadn\\'t stopped christmas from coming! it came! somehow or other, it came just the same! and the grinch, with his grinch-feet ice-cold in the snow, stood puzzling and puzzling: \"how could it be so?\" \"it came with out ribbons! it came without tags!\" \"it came without packages, boxes or bags!\" and he puzzled three hours, till his puzzler was sore. then the grinch thought of something he hadn\\'t before! \"maybe christmas,\" he thought, \"doesn\\'t come from a store.\" \"maybe christmas...perhaps...means a little bit more!\" and what happened then? well...in whoville they say, that the grinch\\'s small heart grew three sizes that day! and the minute his heart didn\\'t feel quite so tight, he whizzed with his load through the bright morning light, and he brought back the toys! and the food for the feast! and he, he himself! the grinch carved the roast beast!one fish, two fish, red fish, blue fish, black fish, blue fish, old fish, new fish. this one has a littlecar. this one has a little star. say! what a lot of fish there are. yes. some are red, and some are blue. some are old and some are new. some are sad, and some are glad, and some are very, very bad. why are they sad and glad and bad? i do not know, go ask your dad. some are thin, and some are fat. the fat one has a yellow hat. from there to here, from here to there, funny things are everywhere. here are some who like to run. they run for fun in the hot, hot sun. oh me! oh my! oh me! oh my! what a lot of funny things go by. some have two feet and some have four. some have six feet and some have more. where do they come from? i can\\'t say. but i bet they have come a long, long way. we see them come, we see them go. some are fast. some are slow. some are high. some are low. not one of them is like another. don\\'t ask us why, go ask your mother.  say! look at his fingers! one, two, three... how many fingers do i see? one, two, three, four, five, six, seven, eight, nine, ten. he has eleven! eleven! this is something new. i wish i had eleven too!  bump! bump! bump! did you ever ride a wump? we have a wump with just one hump. but we know a man called mr. gump. mr. gump has a seven hump wump. so... if you like to go bump! bump! just jump on the hump of the wump of gump  who am i? my name is ned i do not like my little bed. this is no good. this is not right. my feet stick out of bed all night. and when i pull them in, oh, dear! my head sticks out of bed up here!  we like our bike. it is made for three. our mike sits up in back, you see. we like our mike, and this is why: mike does all the work when the hills get high.  hello there, ned. how do you do? tell me, tell me what is new? how are things in your little bed? what is new? please tell me ned. i do not like this bed at all. a lot of things have come to call. a cow, a dog, a cat, a mouse. oh! what a bed! oh! what a house!  oh dear, oh dear! i cannot hear. will you please come over near? will you please look in my ear? there must be something there, i fear. say look! a bird was in your ear. but he is out. so have no fear. again your ear can hear, my dear.  my hat is old, my teeth are gold. i have a bird i like to hold. my shoe is off, my foot is cold. my shoe is off, my foot is cold. i have a bird i like to hold. my hat is old, my teeth are gold. and now my story is all told.  we took a look. we saw a nook. on his head he had a hook. on his hook he had a book. on his book was \"how to cook\" we saw him sit and try to cook but a nook can\\'t read, so a nook can\\'t cook. so... what good to a nook is a hook cook book?  the moon was out and we saw some sheep. we saw some sheep take a walk in their sleep. by the light of the moon, by the light of a star; they walked all night from near to far. i would never walk. i would take a car.  i do not like this one so well. all he does is yell, yell, yell. i will not have this one about. when he comes in i put him out. this one is quiet as a mouse. i like to have him in the house.  at our house we open cans. we have to open many cans. and that is why we have a zans. a zans for cans is very good. have you a zans for cans? you should.  i like to box. how i like to box. so every day i box a gox. in yellow socks i box my gox. i box in yellow gox box socks.  it is fun to sing if you sing with a ying. my ying can sing like anything. i sing high and my ying sings low. and we are not too bad, you know.  this one, i think, is called a yink. he likes to wink, he likes to drink. he likes to drink, and drink, and drink. the thing he likes to drink is ink. the ink he likes to drink is pink. he likes to wink and drink pink ink. so... if you have a lot of ink, you should get a yink, i think.  hop, hop, hop! i am a yop all i like to do is hop, from finger top to finger top. i hop from left to right and then... hop, hop! i hop right back again. i like to hop all day and night. from right to left and left to right. why do i like to hop, hop, hop? i do not know. go ask your pop.  brush, brush, brush, brush comb, comb, comb, comb blue hair is fun to brush and comb. all girls who like to brush and comb, should have a pet like this at home.  who is this pet? say! he is wet. you never yet met a pet, i bet, as wet as they let this wet pet get.  did you ever fly a kite in bed? did you ever walk with ten cats on your head? did you ever milk this kind of cow? well, we can do it. we know how. if you never did, you should. these things are fun, and fun is good.  hello, hello. are you there? hello! i called you up to say hello. i said hello. can you hear me, joe? oh no, i cannot hear your call. i cannot hear your call at all. this is not good, and i know why. a mouse has cut the wire, goodbye!  from near to far, from here to there, funny things are everywhere. these yellow pets are called the zeds. they have one hair upon their heads. their hair grows fast. so fast they say, they need a haircut every day.  who am i? my name is ish on my hand i have a dish. i have this dish to help me wish. when i wish to make a wish i wave my hand with a big swish swish. then i say, \"i wish for fish!\" and i get fish right on my dish. so... if you wish to make a wish, you may swish for fish with my ish wish dish.  at our house we play out back. we play a game called ring the gack. would you like to play this game? come down! we have the only gack in town.  look what we found in the park in the dark. we will take him home, we will call him clark. he will live at our house, he will grow and grow. will our mother like this? we don\\'t know.  and now, good night. it is time to sleep so we will sleep with our pet zeep. today is gone. today was fun. tomorrow is another one. every day, from here to there. funny things are everywhere.fox socks box knox  knox in box. fox in socks.  knox on fox in socks in box.  socks on knox and knox in box.  fox in socks on box on knox.  chicks with bricks come. chicks with blocks come. chicks with bricks and blocks and clocks come.  look, sir.  look, sir.  mr. knox, sir. let\\'s do tricks with bricks and blocks, sir. let\\'s do tricks with chicks and clocks, sir.  first, i\\'ll make a quick trick brick stack. then i\\'ll make a quick trick block stack.  you can make a quick trick chick stack. you can make a quick trick clock stack.  and here\\'s a new trick, mr. knox.... socks on chicks and chicks on fox. fox on clocks on bricks and blocks. bricks and blocks on knox on box.  now we come to ticks and tocks, sir. try to say this mr. knox, sir....  clocks on fox tick. clocks on knox tock. six sick bricks tick. six sick chicks tock.  please, sir.  i don\\'t like this trick, sir. my tongue isn\\'t quick or slick, sir. i get all those ticks and clocks, sir,  mixed up with the chicks and tocks, sir. i can\\'t do it, mr. fox, sir.  i\\'m so sorry, mr. knox, sir.  here\\'s an easy game to play. here\\'s an easy thing to say....  new socks. two socks. whose socks? sue\\'s socks.  who sews whose socks? sue sews sue\\'s socks.  who sees who sew whose new socks, sir? you see sue sew sue\\'s new socks, sir.  that\\'s not easy, mr. fox, sir.  who comes? ... crow comes. slow joe crow comes.  who sews crow\\'s clothes? sue sews crow\\'s clothes. slow joe crow sews whose clothes? sue\\'s clothes.  sue sews socks of fox in socks now.  slow joe crow sews knox in box now.  sue sews rose on slow joe crow\\'s clothes. fox sews hose on slow joe crow\\'s nose.  hose goes. rose grows. nose hose goes some. crow\\'s rose grows some.  mr. fox! i hate this game, sir. this game makes my tongue quite lame, sir.  mr. knox, sir, what a shame, sir.  we\\'ll find something new to do now. here is lots of new blue goo now. new goo.  blue goo. gooey.  gooey. blue goo.  new goo. gluey. gluey.  gooey goo for chewy chewing! that\\'s what that goo-goose is doing. do you choose to chew goo, too, sir? if, sir, you, sir, choose to chew, sir,  with the goo-goose, chew, sir. do, sir.  mr. fox, sir,  i won\\'t do it.   i can\\'t say.   i won\\'t chew it.  very well, sir. step this way. we\\'ll find another game to play.  bim comes. ben comes. bim brings ben broom. ben brings bim broom.  ben bends bim\\'s broom. bim bends ben\\'s broom. bim\\'s bends. ben\\'s bends. ben\\'s bent broom breaks. bim\\'s bent broom breaks.  ben\\'s band.  bim\\'s band. big bands.  pig bands.  bim and ben lead bands with brooms. ben\\'s band bangs and bim\\'s band booms.  pig band!  boom band! big band!  broom band! my poor mouth can\\'t say that.  no, sir. my poor mouth is much too slow, sir.  well then... bring your mouth this way. i\\'ll find it something it can say.  luke luck likes lakes. luke\\'s duck likes lakes. luke luck licks lakes. luck\\'s duck licks lakes.  duck takes licks in lakes luke luck likes. luke luck takes licks in lakes duck likes.  i can\\'t blab such blibber blubber! my tongue isn\\'t make of rubber.  mr. knox.  now come now.  come now. you don\\'t have to be so dumb now....  try to say this, mr. knox, please....  through three cheese trees three free fleas flew. while these fleas flew, freezy breeze blew. freezy breeze made these three trees freeze. freezy trees made these trees\\' cheese freeze. that\\'s what made these three free fleas sneeze.  stop it!  stop it! that\\'s enough, sir. i can\\'t say such silly stuff, sir.  very well, then, mr. knox, sir.  let\\'s have a little talk about tweetle beetles....  what do you know about tweetle beetles?  well...  when tweetle beetles fight,  it\\'s called a tweetle beetle battle.  and when they battle in a puddle,  it\\'s a tweetle beetle puddle battle.  and when tweetle beetles battle with paddles in a puddle,  they call it a tweetle beetle puddle paddle battle.  and...  when beetles battle beetles in a puddle paddle battle  and the beetle battle puddle is a puddle in a bottle... ...they call this a tweetle beetle bottle puddle paddle battle muddle.  and...  when beetles fight these battles in a bottle with their paddles  and the bottle\\'s on a poodle and the poodle\\'s eating noodles... ...they call this a muddle puddle tweetle poodle beetle noodle  bottle paddle battle.  and...  now wait a minute, mr. socks fox!  when a fox is in the bottle where the tweetle beetles battle  with their paddles in a puddle on a noodle-eating poodle,  this is what they call...  ...a tweetle beetle noodle poodle bottled paddled  muddled duddled fuddled wuddled fox in socks, sir!  fox in socks, our game is done, sir. thank you for a lot of fun, sir.i am sam  i am sam sam i am  that sam-i-am that sam-i-am! i do not like that sam-i-am  do you like green eggs and ham  i do not like them, sam-i-am. i do not like green eggs and ham.  would you like them here or there?  i would not like them here or there. i would not like them anywhere. i do not like green eggs and ham. i do not like them, sam-i-am  would you like them in a house? would you like them with a mouse?  i do not like them in a house. i do not like them with a mouse. i do not like them here or there. i do not like them anywhere. i do not like green eggs and ham. i do not like them, sam-i-am.   would you eat them in a box? would you eat them with a fox?  not in a box. not with a fox. not in a house. not with a mouse. i would not eat them here or there. i would not eat them anywhere. i would not eat green eggs and ham. i do not like them, sam-i-am.  would you? could you? in a car? eat them! eat them! here they are.  i would not , could not, in a car  you may like them. you will see. you may like them in a tree? d not in a tree. i would not, could not in a tree. not in a car! you let me be.  i do not like them in a box. i do not like them with a fox i do not like them in a house i do mot like them with a mouse i do not like them here or there. i do not like them anywhere. i do not like green eggs and ham. i do not like them, sam-i-am.  a train! a train! a train! a train! could you, would you on a train?  not on a train! not in a tree! not in a car! sam! let me be! i would not, could not, in a box. i could not, would not, with a fox. i will not eat them with a mouse i will not eat them in a house. i will not eat them here or there. i will not eat them anywhere. i do not like them, sam-i-am.   say! in the dark? here in the dark! would you, could you, in the dark?  i would not, could not, in the dark.  would you, could you, in the rain?  i would not, could not, in the rain. not in the dark. not on a train, not in a car, not in a tree. i do not like them, sam, you see. not in a house. not in a box. not with a mouse. not with a fox. i will not eat them here or there. i do not like them anywhere!  you do not like green eggs and ham?  i do not like them, sam-i-am.  could you, would you, with a goat?  i would not, could not. with a goat!  would you, could you, on a boat?  i could not, would not, on a boat. i will not, will not, with a goat. i will not eat them in the rain. i will not eat them on a train. not in the dark! not in a tree! not in a car! you let me be! i do not like them in a box. i do not like them with a fox. i will not eat them in a house. i do not like them with a mouse. i do not like them here or there. i do not like them anywhere!  i do not like green eggs and ham!  i do not like them, sam-i-am.  you do not like them. so you say. try them! try them! and you may. try them and you may i say.  sam! if you will let me be, i will try them. you will see.  say! i like green eggs and ham! i do!! i like them, sam-i-am! and i would eat them in a boat! and i would eat them with a goat... and i will eat them in the rain. and in the dark. and on a train. and in a car. and in a tree. they are so good so good you see!  so i will eat them in a box. and i will eat them with a fox. and i will eat them in a house. and i will eat them with a mouse. and i will eat them here and there. say! i will eat them anywhere!  i do so like green eggs and ham! thank you! thank you, sam-i-am'"
      ]
     },
     "execution_count": 5,
     "metadata": {},
     "output_type": "execute_result"
    }
   ],
   "source": [
    "total"
   ]
  },
  {
   "cell_type": "markdown",
   "metadata": {
    "collapsed": true
   },
   "source": [
    "## 2. Create Char Dictionary"
   ]
  },
  {
   "cell_type": "code",
   "execution_count": 6,
   "metadata": {
    "collapsed": true
   },
   "outputs": [],
   "source": [
    "def create_dict(texts):\n",
    "    wl = {}\n",
    "    for char in texts:\n",
    "        if char not in wl:\n",
    "            wl[char] = 1\n",
    "        else:\n",
    "            wl[char] += 1\n",
    "    return wl"
   ]
  },
  {
   "cell_type": "code",
   "execution_count": 7,
   "metadata": {},
   "outputs": [],
   "source": [
    "import operator\n",
    "d = create_dict(total)\n",
    "sorted_d = sorted(d.items(), key=lambda x: x[1], reverse=True)"
   ]
  },
  {
   "cell_type": "code",
   "execution_count": 8,
   "metadata": {},
   "outputs": [
    {
     "name": "stdout",
     "output_type": "stream",
     "text": [
      "Dictionary Size: 46\n"
     ]
    }
   ],
   "source": [
    "print('Dictionary Size: %d' % len(sorted_d))"
   ]
  },
  {
   "cell_type": "code",
   "execution_count": 9,
   "metadata": {},
   "outputs": [
    {
     "name": "stdout",
     "output_type": "stream",
     "text": [
      "Dictionary:\n",
      " [(' ', 7706), ('e', 2920), ('t', 2509), ('o', 2487), ('a', 2039), ('h', 1949), ('i', 1825), ('n', 1737), ('s', 1608), ('l', 1304), ('r', 1105), ('d', 1089), ('w', 898), ('u', 877), ('.', 822), ('m', 694), ('y', 644), ('c', 585), ('g', 532), ('k', 523), ('b', 447), (',', 429), ('p', 415), ('f', 414), ('!', 328), ('\"', 184), (\"'\", 173), ('v', 126), ('x', 90), ('?', 84), ('-', 61), ('z', 35), ('j', 30), ('q', 21), (':', 2), ('\\xef', 1), (')', 1), ('(', 1), ('/', 1), ('3', 1), ('4', 1), ('9', 1), ('8', 1), (';', 1), ('\\xbf', 1), ('\\xbd', 1)]\n"
     ]
    }
   ],
   "source": [
    "print('Dictionary:\\n %s' % sorted_d)"
   ]
  },
  {
   "cell_type": "markdown",
   "metadata": {},
   "source": [
    "## 3. Vectorize on Char Dict"
   ]
  },
  {
   "cell_type": "code",
   "execution_count": 10,
   "metadata": {
    "collapsed": true
   },
   "outputs": [],
   "source": [
    "SEQ_LENGTH = 100"
   ]
  },
  {
   "cell_type": "code",
   "execution_count": 11,
   "metadata": {
    "collapsed": true
   },
   "outputs": [],
   "source": [
    "characters = []\n",
    "for pair in sorted_d:\n",
    "    characters.append(pair[0])"
   ]
  },
  {
   "cell_type": "code",
   "execution_count": 12,
   "metadata": {
    "collapsed": true
   },
   "outputs": [],
   "source": [
    "n_to_char = {n:char for n, char in enumerate(characters)}\n",
    "char_to_n = {char:n for n, char in enumerate(characters)}"
   ]
  },
  {
   "cell_type": "code",
   "execution_count": 13,
   "metadata": {},
   "outputs": [
    {
     "name": "stderr",
     "output_type": "stream",
     "text": [
      "Using TensorFlow backend.\n"
     ]
    }
   ],
   "source": [
    "import numpy as np\n",
    "from keras.utils import np_utils\n",
    "X = []\n",
    "Y = []\n",
    "length = len(total)\n",
    "for i in range(0, length - SEQ_LENGTH, 1):\n",
    "    sequence = total[i:i + SEQ_LENGTH]\n",
    "    label = total[i + SEQ_LENGTH]\n",
    "    X.append([char_to_n[char] for char in sequence])\n",
    "    Y.append(char_to_n[label])"
   ]
  },
  {
   "cell_type": "code",
   "execution_count": 14,
   "metadata": {},
   "outputs": [],
   "source": [
    "X_mod = np.reshape(X, (len(X), SEQ_LENGTH, 1))\n",
    "X_mod = X_mod / float(len(characters))\n",
    "Y_mod = np_utils.to_categorical(Y)"
   ]
  },
  {
   "cell_type": "code",
   "execution_count": 15,
   "metadata": {},
   "outputs": [
    {
     "data": {
      "text/plain": [
       "(36603, 100, 1)"
      ]
     },
     "execution_count": 15,
     "metadata": {},
     "output_type": "execute_result"
    }
   ],
   "source": [
    "X_mod.shape"
   ]
  },
  {
   "cell_type": "markdown",
   "metadata": {},
   "source": [
    "## 4. LSTM Model"
   ]
  },
  {
   "cell_type": "code",
   "execution_count": 16,
   "metadata": {
    "collapsed": true
   },
   "outputs": [],
   "source": [
    "from keras.models import Sequential\n",
    "from keras.layers import Dense\n",
    "from keras.layers import Dropout\n",
    "from keras.layers import LSTM\n",
    "from keras.utils import np_utils"
   ]
  },
  {
   "cell_type": "code",
   "execution_count": 17,
   "metadata": {},
   "outputs": [],
   "source": [
    "model = Sequential()\n",
    "model.add(LSTM(400, input_shape=(X_mod.shape[1], X_mod.shape[2]), return_sequences=True))\n",
    "model.add(Dropout(0.2))\n",
    "model.add(LSTM(400))\n",
    "model.add(Dropout(0.2))\n",
    "model.add(Dense(Y_mod.shape[1], activation = 'softmax'))\n",
    "model.compile(loss='categorical_crossentropy', optimizer='adam')"
   ]
  },
  {
   "cell_type": "markdown",
   "metadata": {},
   "source": [
    "2 LSTM layers, 400 hidden layers, dropout ratio 0.2"
   ]
  },
  {
   "cell_type": "code",
   "execution_count": 18,
   "metadata": {},
   "outputs": [],
   "source": [
    "#model.fit(X_mod, Y_mod, epochs=1, batch_size=100)\n",
    "#model.save_weights('models/dr-seuss-baseline-400-0.2-400-0.2.h5')"
   ]
  },
  {
   "cell_type": "markdown",
   "metadata": {},
   "source": [
    "1 epoch, batch size of 100"
   ]
  },
  {
   "cell_type": "code",
   "execution_count": 19,
   "metadata": {
    "collapsed": true
   },
   "outputs": [],
   "source": [
    "model.load_weights('models/dr-seuss-baseline-400-0.2-400-0.2.h5')"
   ]
  },
  {
   "cell_type": "markdown",
   "metadata": {},
   "source": [
    "## 5. Generate Text"
   ]
  },
  {
   "cell_type": "code",
   "execution_count": 22,
   "metadata": {
    "collapsed": true
   },
   "outputs": [],
   "source": [
    "string_mapped = list(X[0])\n",
    "full_string = [n_to_char[value] for value in string_mapped]\n",
    "# generating characters\n",
    "for i in range(200):\n",
    "    x = np.reshape(string_mapped,(1,len(string_mapped), 1))\n",
    "    x = x / float(len(characters))\n",
    "    \n",
    "    pred_index = np.argmax(model.predict(x, verbose=0))\n",
    "    seq = [n_to_char[value] for value in string_mapped]\n",
    "    full_string.append(n_to_char[pred_index])\n",
    "    \n",
    "    string_mapped.append(pred_index)\n",
    "    string_mapped = string_mapped[1:len(string_mapped)]"
   ]
  },
  {
   "cell_type": "code",
   "execution_count": 23,
   "metadata": {},
   "outputs": [
    {
     "name": "stdout",
     "output_type": "stream",
     "text": [
      "congratulations! today is your day. you're off to great places! you're off and away!  you have brain\n",
      "congratulations! today is your day. you're off to great places! you're off and away!  you have brain                                                                                                                                                                                                        \n"
     ]
    }
   ],
   "source": [
    "#combining text\n",
    "txt=\"\"\n",
    "for char in full_string:\n",
    "    txt = txt+char\n",
    "print(txt[:100])\n",
    "print(txt)"
   ]
  }
 ],
 "metadata": {
  "kernelspec": {
   "display_name": "Python 2",
   "language": "python",
   "name": "python2"
  },
  "language_info": {
   "codemirror_mode": {
    "name": "ipython",
    "version": 2
   },
   "file_extension": ".py",
   "mimetype": "text/x-python",
   "name": "python",
   "nbconvert_exporter": "python",
   "pygments_lexer": "ipython2",
   "version": "2.7.13"
  }
 },
 "nbformat": 4,
 "nbformat_minor": 2
}
